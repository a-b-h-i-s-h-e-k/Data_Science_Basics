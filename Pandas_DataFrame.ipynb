{
 "cells": [
  {
   "cell_type": "code",
   "execution_count": 1,
   "id": "21d7fc5e-7c46-414e-8c80-5dd0222fa760",
   "metadata": {},
   "outputs": [
    {
     "name": "stdout",
     "output_type": "stream",
     "text": [
      "      Unnamed: 0  Price   Age     KM FuelType   HP  MetColor  Automatic    CC  \\\n",
      "0              0  13500  23.0  46986   Diesel   90       1.0          0  2000   \n",
      "1              1  13750  23.0  72937   Diesel   90       1.0          0  2000   \n",
      "2              2  13950  24.0  41711   Diesel   90       NaN          0  2000   \n",
      "3              3  14950  26.0  48000   Diesel   90       0.0          0  2000   \n",
      "4              4  13750  30.0  38500   Diesel   90       0.0          0  2000   \n",
      "...          ...    ...   ...    ...      ...  ...       ...        ...   ...   \n",
      "1431        1431   7500   NaN  20544   Petrol   86       1.0          0  1300   \n",
      "1432        1432  10845  72.0     ??   Petrol   86       0.0          0  1300   \n",
      "1433        1433   8500   NaN  17016   Petrol   86       0.0          0  1300   \n",
      "1434        1434   7250  70.0     ??      NaN   86       1.0          0  1300   \n",
      "1435        1435   6950  76.0      1   Petrol  110       0.0          0  1600   \n",
      "\n",
      "      Doors  Weight  \n",
      "0     three    1165  \n",
      "1         3    1165  \n",
      "2         3    1165  \n",
      "3         3    1165  \n",
      "4         3    1170  \n",
      "...     ...     ...  \n",
      "1431      3    1025  \n",
      "1432      3    1015  \n",
      "1433      3    1015  \n",
      "1434      3    1015  \n",
      "1435      5    1114  \n",
      "\n",
      "[1436 rows x 11 columns]\n"
     ]
    }
   ],
   "source": [
    "import pandas as pd\n",
    "import numpy as np\n",
    "\n",
    "df = pd.read_csv(\"Toyota.csv\")\n",
    "print(df)"
   ]
  },
  {
   "cell_type": "markdown",
   "id": "062683b6-cf81-425e-a9fb-2b43ab7d5b2e",
   "metadata": {},
   "source": [
    "### As we can see there are two indexing in dataframe one from dataset name as unnamed and one will provided by the pandas dataframe.\n",
    "### as we use index_col = 0 in read function it will remove one indexing from dataset name as unnamed.\n"
   ]
  },
  {
   "cell_type": "code",
   "execution_count": 2,
   "id": "b889b75a-61db-4419-8ff3-d4613ae3d97d",
   "metadata": {},
   "outputs": [
    {
     "name": "stdout",
     "output_type": "stream",
     "text": [
      "      Price   Age     KM FuelType   HP  MetColor  Automatic    CC  Doors  \\\n",
      "0     13500  23.0  46986   Diesel   90       1.0          0  2000  three   \n",
      "1     13750  23.0  72937   Diesel   90       1.0          0  2000      3   \n",
      "2     13950  24.0  41711   Diesel   90       NaN          0  2000      3   \n",
      "3     14950  26.0  48000   Diesel   90       0.0          0  2000      3   \n",
      "4     13750  30.0  38500   Diesel   90       0.0          0  2000      3   \n",
      "...     ...   ...    ...      ...  ...       ...        ...   ...    ...   \n",
      "1431   7500   NaN  20544   Petrol   86       1.0          0  1300      3   \n",
      "1432  10845  72.0     ??   Petrol   86       0.0          0  1300      3   \n",
      "1433   8500   NaN  17016   Petrol   86       0.0          0  1300      3   \n",
      "1434   7250  70.0     ??      NaN   86       1.0          0  1300      3   \n",
      "1435   6950  76.0      1   Petrol  110       0.0          0  1600      5   \n",
      "\n",
      "      Weight  \n",
      "0       1165  \n",
      "1       1165  \n",
      "2       1165  \n",
      "3       1165  \n",
      "4       1170  \n",
      "...      ...  \n",
      "1431    1025  \n",
      "1432    1015  \n",
      "1433    1015  \n",
      "1434    1015  \n",
      "1435    1114  \n",
      "\n",
      "[1436 rows x 10 columns]\n"
     ]
    }
   ],
   "source": [
    "df = pd.read_csv('Toyota.csv', index_col = 0)\n",
    "print(df)"
   ]
  },
  {
   "cell_type": "markdown",
   "id": "51e159d8-8816-4b73-8c5d-62bfd9f10a50",
   "metadata": {},
   "source": [
    "### How to create Copy of Original Dataset\n",
    "\n",
    "--> There are two ways of copying the original data\n",
    "1. shallow copy\n",
    "2. deep copy"
   ]
  },
  {
   "cell_type": "markdown",
   "id": "dce55469-b2d4-405c-a3ff-dc578871ff91",
   "metadata": {},
   "source": [
    "### Shallow Copy\n",
    "\n",
    "A shallow copy, as the name suggests, creates a new DataFrame object that references the original data. In other words, a shallow copy points to the same memory location as the original DataFrame. Any modifications made to the shallow copy will reflect in the original DataFrame and vice versa. This behaviour is due to the shared references between the original and the copied object.\n",
    "\n",
    "Syntax:->\n",
    "pandas.DataFrame.copy(deep=False)\n",
    "\n",
    "If 'deep=False', a shallow copy of the DataFrame is created but the data and index labels are not copied, instead, both the original and the new DataFrame will refer the same data and index labels. \n",
    "\n",
    "#### shallow copy:-> dataset is same, and  shallow copy is same but memory locations are different, if we make change anything in shallow copy function and it will also reflect in original dataset or in dataframe, and if we make change in dataframe it will also reflect in shallow data because they are refrencing the same data only."
   ]
  },
  {
   "cell_type": "code",
   "execution_count": 3,
   "id": "82527965-d22b-43ab-9475-995f4f870247",
   "metadata": {},
   "outputs": [
    {
     "name": "stdout",
     "output_type": "stream",
     "text": [
      "      Price   Age     KM FuelType   HP  MetColor  Automatic    CC  Doors  \\\n",
      "0     13500  23.0  46986   Diesel   90       1.0          0  2000  three   \n",
      "1     13750  23.0  72937   Diesel   90       1.0          0  2000      3   \n",
      "2     13950  24.0  41711   Diesel   90       NaN          0  2000      3   \n",
      "3     14950  26.0  48000   Diesel   90       0.0          0  2000      3   \n",
      "4     13750  30.0  38500   Diesel   90       0.0          0  2000      3   \n",
      "...     ...   ...    ...      ...  ...       ...        ...   ...    ...   \n",
      "1431   7500   NaN  20544   Petrol   86       1.0          0  1300      3   \n",
      "1432  10845  72.0     ??   Petrol   86       0.0          0  1300      3   \n",
      "1433   8500   NaN  17016   Petrol   86       0.0          0  1300      3   \n",
      "1434   7250  70.0     ??      NaN   86       1.0          0  1300      3   \n",
      "1435   6950  76.0      1   Petrol  110       0.0          0  1600      5   \n",
      "\n",
      "      Weight  \n",
      "0       1165  \n",
      "1       1165  \n",
      "2       1165  \n",
      "3       1165  \n",
      "4       1170  \n",
      "...      ...  \n",
      "1431    1025  \n",
      "1432    1015  \n",
      "1433    1015  \n",
      "1434    1015  \n",
      "1435    1114  \n",
      "\n",
      "[1436 rows x 10 columns]\n"
     ]
    }
   ],
   "source": [
    "# Shallow Copy\n",
    "\n",
    "sample = df.copy(deep = False)\n",
    "print(sample)"
   ]
  },
  {
   "cell_type": "markdown",
   "id": "54251ee0-836f-4cf5-9d79-1fef0b533d1e",
   "metadata": {},
   "source": [
    "### Deep Copy\n",
    "A deep copy refers to developing a very independent copy of a dataframe, which includes all its data and metadata. In other phrases, a deep copy creates a brand new dataframe object with its personal memory space, become independent from the original dataframe.\n",
    "\n",
    "### Syntax\n",
    "pandas.DataFrame.copy(deep=True)\n",
    "\n",
    "The parameter “deep”: is optional and its default value is set to True. If 'deep=True', a deep copy of the DataFrame is created. So, we infer that a new DataFrame object is created and all the data and index labels are copied from the original DataFrame to the new one. \n",
    "\n",
    "--> Deep copy: Here, deep copy makes the dataset different and original dataset.now, it's original copy means if we make any change to deep copy or in orginal dataframe they can't show in each other. and it store in different memory location."
   ]
  },
  {
   "cell_type": "code",
   "execution_count": 4,
   "id": "775769ee-2120-4b56-9be2-77691b80ae89",
   "metadata": {},
   "outputs": [
    {
     "name": "stdout",
     "output_type": "stream",
     "text": [
      "      Price   Age     KM FuelType   HP  MetColor  Automatic    CC  Doors  \\\n",
      "0     13500  23.0  46986   Diesel   90       1.0          0  2000  three   \n",
      "1     13750  23.0  72937   Diesel   90       1.0          0  2000      3   \n",
      "2     13950  24.0  41711   Diesel   90       NaN          0  2000      3   \n",
      "3     14950  26.0  48000   Diesel   90       0.0          0  2000      3   \n",
      "4     13750  30.0  38500   Diesel   90       0.0          0  2000      3   \n",
      "...     ...   ...    ...      ...  ...       ...        ...   ...    ...   \n",
      "1431   7500   NaN  20544   Petrol   86       1.0          0  1300      3   \n",
      "1432  10845  72.0     ??   Petrol   86       0.0          0  1300      3   \n",
      "1433   8500   NaN  17016   Petrol   86       0.0          0  1300      3   \n",
      "1434   7250  70.0     ??      NaN   86       1.0          0  1300      3   \n",
      "1435   6950  76.0      1   Petrol  110       0.0          0  1600      5   \n",
      "\n",
      "      Weight  \n",
      "0       1165  \n",
      "1       1165  \n",
      "2       1165  \n",
      "3       1165  \n",
      "4       1170  \n",
      "...      ...  \n",
      "1431    1025  \n",
      "1432    1015  \n",
      "1433    1015  \n",
      "1434    1015  \n",
      "1435    1114  \n",
      "\n",
      "[1436 rows x 10 columns]\n"
     ]
    }
   ],
   "source": [
    "# Deep Copy\n",
    "\n",
    "sample1 = df.copy(deep = True)\n",
    "print(sample1)"
   ]
  },
  {
   "cell_type": "markdown",
   "id": "0fcb553d-7cb0-480a-8ae0-14c3bca9a809",
   "metadata": {},
   "source": [
    "## Attributes of \n",
    "\n",
    "Means what are the attributes that most commonly used"
   ]
  },
  {
   "cell_type": "code",
   "execution_count": 5,
   "id": "9f75b91d-b57d-4b6e-9342-fcaee8793dc2",
   "metadata": {},
   "outputs": [
    {
     "name": "stdout",
     "output_type": "stream",
     "text": [
      "Index([   0,    1,    2,    3,    4,    5,    6,    7,    8,    9,\n",
      "       ...\n",
      "       1426, 1427, 1428, 1429, 1430, 1431, 1432, 1433, 1434, 1435],\n",
      "      dtype='int64', length=1436)\n"
     ]
    }
   ],
   "source": [
    "# .DataFrame.index - To get the index(row labels) of the dataframe.\n",
    "\n",
    "x = df.index\n",
    "print(x)"
   ]
  },
  {
   "cell_type": "code",
   "execution_count": 6,
   "id": "abf3af3a-c80d-4b9a-8ead-a6891275bac7",
   "metadata": {},
   "outputs": [
    {
     "data": {
      "text/plain": [
       "Index(['Price', 'Age', 'KM', 'FuelType', 'HP', 'MetColor', 'Automatic', 'CC',\n",
       "       'Doors', 'Weight'],\n",
       "      dtype='object')"
      ]
     },
     "execution_count": 6,
     "metadata": {},
     "output_type": "execute_result"
    }
   ],
   "source": [
    "# .DataFrame.columns - To get the column labels of the dataframe. columns are also called as variable\n",
    "\n",
    "df.columns"
   ]
  },
  {
   "cell_type": "code",
   "execution_count": 7,
   "id": "4944f1e8-ae1c-487b-a9f8-3842efdec25a",
   "metadata": {},
   "outputs": [
    {
     "data": {
      "text/plain": [
       "14360"
      ]
     },
     "execution_count": 7,
     "metadata": {},
     "output_type": "execute_result"
    }
   ],
   "source": [
    "# .DataFrame.size - To get the total number of elements from the dataframe\n",
    "# Total no. of elements - 14360\n",
    "\n",
    "df.size"
   ]
  },
  {
   "cell_type": "code",
   "execution_count": 8,
   "id": "990917f9-fe0c-4a27-a3a4-5a5bee34d025",
   "metadata": {},
   "outputs": [
    {
     "data": {
      "text/plain": [
       "(1436, 10)"
      ]
     },
     "execution_count": 8,
     "metadata": {},
     "output_type": "execute_result"
    }
   ],
   "source": [
    "# .DataFrame.shape - To get to dimensionality of the dataframe\n",
    "# Total No's of Rows and Columns\n",
    "\n",
    "df.shape"
   ]
  },
  {
   "cell_type": "code",
   "execution_count": 9,
   "id": "7c35dbac-41db-408e-9335-ea83b6ba17e9",
   "metadata": {},
   "outputs": [
    {
     "data": {
      "text/plain": [
       "Index        11488\n",
       "Price        11488\n",
       "Age          11488\n",
       "KM           11488\n",
       "FuelType     11488\n",
       "HP           11488\n",
       "MetColor     11488\n",
       "Automatic    11488\n",
       "CC           11488\n",
       "Doors        11488\n",
       "Weight       11488\n",
       "dtype: int64"
      ]
     },
     "execution_count": 9,
     "metadata": {},
     "output_type": "execute_result"
    }
   ],
   "source": [
    "# DataFrame.memory_usage([index,depp]) --> how much memory used by each column.\n",
    "\n",
    "df.memory_usage([x, sample1])"
   ]
  },
  {
   "cell_type": "code",
   "execution_count": 10,
   "id": "8b47d5ce-016b-4d05-b941-caf9b93c076b",
   "metadata": {},
   "outputs": [
    {
     "data": {
      "text/plain": [
       "2"
      ]
     },
     "execution_count": 10,
     "metadata": {},
     "output_type": "execute_result"
    }
   ],
   "source": [
    "# DataFrame.ndim - The number of axes / array dimensions  --> For Checking the Dimensions\n",
    "\n",
    "df.ndim"
   ]
  },
  {
   "cell_type": "markdown",
   "id": "7aea83df-0510-41b6-b8fc-90007bc929b4",
   "metadata": {},
   "source": [
    "# Indexing and Selecting Data"
   ]
  },
  {
   "cell_type": "code",
   "execution_count": 11,
   "id": "fa5d24d5-4811-47e1-8203-61c2a6841d6e",
   "metadata": {},
   "outputs": [
    {
     "data": {
      "text/html": [
       "<div>\n",
       "<style scoped>\n",
       "    .dataframe tbody tr th:only-of-type {\n",
       "        vertical-align: middle;\n",
       "    }\n",
       "\n",
       "    .dataframe tbody tr th {\n",
       "        vertical-align: top;\n",
       "    }\n",
       "\n",
       "    .dataframe thead th {\n",
       "        text-align: right;\n",
       "    }\n",
       "</style>\n",
       "<table border=\"1\" class=\"dataframe\">\n",
       "  <thead>\n",
       "    <tr style=\"text-align: right;\">\n",
       "      <th></th>\n",
       "      <th>Price</th>\n",
       "      <th>Age</th>\n",
       "      <th>KM</th>\n",
       "      <th>FuelType</th>\n",
       "      <th>HP</th>\n",
       "      <th>MetColor</th>\n",
       "      <th>Automatic</th>\n",
       "      <th>CC</th>\n",
       "      <th>Doors</th>\n",
       "      <th>Weight</th>\n",
       "    </tr>\n",
       "  </thead>\n",
       "  <tbody>\n",
       "    <tr>\n",
       "      <th>0</th>\n",
       "      <td>13500</td>\n",
       "      <td>23.0</td>\n",
       "      <td>46986</td>\n",
       "      <td>Diesel</td>\n",
       "      <td>90</td>\n",
       "      <td>1.0</td>\n",
       "      <td>0</td>\n",
       "      <td>2000</td>\n",
       "      <td>three</td>\n",
       "      <td>1165</td>\n",
       "    </tr>\n",
       "    <tr>\n",
       "      <th>1</th>\n",
       "      <td>13750</td>\n",
       "      <td>23.0</td>\n",
       "      <td>72937</td>\n",
       "      <td>Diesel</td>\n",
       "      <td>90</td>\n",
       "      <td>1.0</td>\n",
       "      <td>0</td>\n",
       "      <td>2000</td>\n",
       "      <td>3</td>\n",
       "      <td>1165</td>\n",
       "    </tr>\n",
       "    <tr>\n",
       "      <th>2</th>\n",
       "      <td>13950</td>\n",
       "      <td>24.0</td>\n",
       "      <td>41711</td>\n",
       "      <td>Diesel</td>\n",
       "      <td>90</td>\n",
       "      <td>NaN</td>\n",
       "      <td>0</td>\n",
       "      <td>2000</td>\n",
       "      <td>3</td>\n",
       "      <td>1165</td>\n",
       "    </tr>\n",
       "    <tr>\n",
       "      <th>3</th>\n",
       "      <td>14950</td>\n",
       "      <td>26.0</td>\n",
       "      <td>48000</td>\n",
       "      <td>Diesel</td>\n",
       "      <td>90</td>\n",
       "      <td>0.0</td>\n",
       "      <td>0</td>\n",
       "      <td>2000</td>\n",
       "      <td>3</td>\n",
       "      <td>1165</td>\n",
       "    </tr>\n",
       "    <tr>\n",
       "      <th>4</th>\n",
       "      <td>13750</td>\n",
       "      <td>30.0</td>\n",
       "      <td>38500</td>\n",
       "      <td>Diesel</td>\n",
       "      <td>90</td>\n",
       "      <td>0.0</td>\n",
       "      <td>0</td>\n",
       "      <td>2000</td>\n",
       "      <td>3</td>\n",
       "      <td>1170</td>\n",
       "    </tr>\n",
       "  </tbody>\n",
       "</table>\n",
       "</div>"
      ],
      "text/plain": [
       "   Price   Age     KM FuelType  HP  MetColor  Automatic    CC  Doors  Weight\n",
       "0  13500  23.0  46986   Diesel  90       1.0          0  2000  three    1165\n",
       "1  13750  23.0  72937   Diesel  90       1.0          0  2000      3    1165\n",
       "2  13950  24.0  41711   Diesel  90       NaN          0  2000      3    1165\n",
       "3  14950  26.0  48000   Diesel  90       0.0          0  2000      3    1165\n",
       "4  13750  30.0  38500   Diesel  90       0.0          0  2000      3    1170"
      ]
     },
     "execution_count": 11,
     "metadata": {},
     "output_type": "execute_result"
    }
   ],
   "source": [
    "# DataFrame.head([n]) - The function head returns the first n rows from the dataframe.\n",
    "# Bydefault if we don't putanything in head then it will give you Top 5 rows.\n",
    "\n",
    "df.head()"
   ]
  },
  {
   "cell_type": "code",
   "execution_count": 12,
   "id": "176c3262-cd03-4958-a7b6-d9deec61bffe",
   "metadata": {},
   "outputs": [
    {
     "data": {
      "text/html": [
       "<div>\n",
       "<style scoped>\n",
       "    .dataframe tbody tr th:only-of-type {\n",
       "        vertical-align: middle;\n",
       "    }\n",
       "\n",
       "    .dataframe tbody tr th {\n",
       "        vertical-align: top;\n",
       "    }\n",
       "\n",
       "    .dataframe thead th {\n",
       "        text-align: right;\n",
       "    }\n",
       "</style>\n",
       "<table border=\"1\" class=\"dataframe\">\n",
       "  <thead>\n",
       "    <tr style=\"text-align: right;\">\n",
       "      <th></th>\n",
       "      <th>Price</th>\n",
       "      <th>Age</th>\n",
       "      <th>KM</th>\n",
       "      <th>FuelType</th>\n",
       "      <th>HP</th>\n",
       "      <th>MetColor</th>\n",
       "      <th>Automatic</th>\n",
       "      <th>CC</th>\n",
       "      <th>Doors</th>\n",
       "      <th>Weight</th>\n",
       "    </tr>\n",
       "  </thead>\n",
       "  <tbody>\n",
       "    <tr>\n",
       "      <th>1431</th>\n",
       "      <td>7500</td>\n",
       "      <td>NaN</td>\n",
       "      <td>20544</td>\n",
       "      <td>Petrol</td>\n",
       "      <td>86</td>\n",
       "      <td>1.0</td>\n",
       "      <td>0</td>\n",
       "      <td>1300</td>\n",
       "      <td>3</td>\n",
       "      <td>1025</td>\n",
       "    </tr>\n",
       "    <tr>\n",
       "      <th>1432</th>\n",
       "      <td>10845</td>\n",
       "      <td>72.0</td>\n",
       "      <td>??</td>\n",
       "      <td>Petrol</td>\n",
       "      <td>86</td>\n",
       "      <td>0.0</td>\n",
       "      <td>0</td>\n",
       "      <td>1300</td>\n",
       "      <td>3</td>\n",
       "      <td>1015</td>\n",
       "    </tr>\n",
       "    <tr>\n",
       "      <th>1433</th>\n",
       "      <td>8500</td>\n",
       "      <td>NaN</td>\n",
       "      <td>17016</td>\n",
       "      <td>Petrol</td>\n",
       "      <td>86</td>\n",
       "      <td>0.0</td>\n",
       "      <td>0</td>\n",
       "      <td>1300</td>\n",
       "      <td>3</td>\n",
       "      <td>1015</td>\n",
       "    </tr>\n",
       "    <tr>\n",
       "      <th>1434</th>\n",
       "      <td>7250</td>\n",
       "      <td>70.0</td>\n",
       "      <td>??</td>\n",
       "      <td>NaN</td>\n",
       "      <td>86</td>\n",
       "      <td>1.0</td>\n",
       "      <td>0</td>\n",
       "      <td>1300</td>\n",
       "      <td>3</td>\n",
       "      <td>1015</td>\n",
       "    </tr>\n",
       "    <tr>\n",
       "      <th>1435</th>\n",
       "      <td>6950</td>\n",
       "      <td>76.0</td>\n",
       "      <td>1</td>\n",
       "      <td>Petrol</td>\n",
       "      <td>110</td>\n",
       "      <td>0.0</td>\n",
       "      <td>0</td>\n",
       "      <td>1600</td>\n",
       "      <td>5</td>\n",
       "      <td>1114</td>\n",
       "    </tr>\n",
       "  </tbody>\n",
       "</table>\n",
       "</div>"
      ],
      "text/plain": [
       "      Price   Age     KM FuelType   HP  MetColor  Automatic    CC Doors  \\\n",
       "1431   7500   NaN  20544   Petrol   86       1.0          0  1300     3   \n",
       "1432  10845  72.0     ??   Petrol   86       0.0          0  1300     3   \n",
       "1433   8500   NaN  17016   Petrol   86       0.0          0  1300     3   \n",
       "1434   7250  70.0     ??      NaN   86       1.0          0  1300     3   \n",
       "1435   6950  76.0      1   Petrol  110       0.0          0  1600     5   \n",
       "\n",
       "      Weight  \n",
       "1431    1025  \n",
       "1432    1015  \n",
       "1433    1015  \n",
       "1434    1015  \n",
       "1435    1114  "
      ]
     },
     "execution_count": 12,
     "metadata": {},
     "output_type": "execute_result"
    }
   ],
   "source": [
    "# It's opposite of head it will return bydefault last 5 rows\n",
    "\n",
    "df.tail()\n",
    "\n",
    "## Head and Tail is used for quickly verifying the data."
   ]
  },
  {
   "cell_type": "markdown",
   "id": "20ebe9fa-7ffc-4a45-933f-d48a1e744848",
   "metadata": {},
   "source": [
    "Accessing a Scalar value, Accessing these were for seeing a sample data after appending rows or sorting now\n",
    "when you have to access the data so the fastest way to access the data a scalar value you can say is at,iat method"
   ]
  },
  {
   "cell_type": "code",
   "execution_count": 13,
   "id": "0a265506-64f0-4618-9832-bf5218d2d0e1",
   "metadata": {},
   "outputs": [
    {
     "data": {
      "text/plain": [
       "'3'"
      ]
     },
     "execution_count": 13,
     "metadata": {},
     "output_type": "execute_result"
    }
   ],
   "source": [
    "# at -> provides label-based scalar loopups\n",
    "\n",
    "# syntax -> dataframe.at[row(in which row you want to look up your data), 'Just give the name of column'\n",
    "# (that we want to see the part that particular data from second row)]\n",
    "\n",
    "df.at[2, 'Doors']"
   ]
  },
  {
   "cell_type": "code",
   "execution_count": 14,
   "id": "d46afc98-45a1-4ade-ac3e-9d18884f368a",
   "metadata": {},
   "outputs": [
    {
     "data": {
      "text/plain": [
       "'3'"
      ]
     },
     "execution_count": 14,
     "metadata": {},
     "output_type": "execute_result"
    }
   ],
   "source": [
    "# iat -> provides integer-based loopups\n",
    "\n",
    "#syntax -> dataframe.iat[row, integer value of column]\n",
    "\n",
    "df.iat[5,8]"
   ]
  },
  {
   "cell_type": "code",
   "execution_count": 15,
   "id": "2be1200d-1637-46a0-9545-5f275247d164",
   "metadata": {},
   "outputs": [
    {
     "data": {
      "text/plain": [
       "0    Diesel\n",
       "1    Diesel\n",
       "2    Diesel\n",
       "3    Diesel\n",
       "4    Diesel\n",
       "5    Diesel\n",
       "Name: FuelType, dtype: object"
      ]
     },
     "execution_count": 15,
     "metadata": {},
     "output_type": "execute_result"
    }
   ],
   "source": [
    "# .Loc[] -> To access a group of rows and columns by label(s) .Loc[] can be used\n",
    "# in loc we can use or access the group of rows and group of columns.\n",
    "\n",
    "df.loc[0:5, 'FuelType']"
   ]
  },
  {
   "cell_type": "code",
   "execution_count": 16,
   "id": "4f68d7f8-ab64-4cf3-9408-244144e20511",
   "metadata": {},
   "outputs": [
    {
     "data": {
      "text/html": [
       "<div>\n",
       "<style scoped>\n",
       "    .dataframe tbody tr th:only-of-type {\n",
       "        vertical-align: middle;\n",
       "    }\n",
       "\n",
       "    .dataframe tbody tr th {\n",
       "        vertical-align: top;\n",
       "    }\n",
       "\n",
       "    .dataframe thead th {\n",
       "        text-align: right;\n",
       "    }\n",
       "</style>\n",
       "<table border=\"1\" class=\"dataframe\">\n",
       "  <thead>\n",
       "    <tr style=\"text-align: right;\">\n",
       "      <th></th>\n",
       "      <th>FuelType</th>\n",
       "      <th>HP</th>\n",
       "      <th>MetColor</th>\n",
       "      <th>Automatic</th>\n",
       "      <th>CC</th>\n",
       "      <th>Doors</th>\n",
       "    </tr>\n",
       "  </thead>\n",
       "  <tbody>\n",
       "    <tr>\n",
       "      <th>0</th>\n",
       "      <td>Diesel</td>\n",
       "      <td>90</td>\n",
       "      <td>1.0</td>\n",
       "      <td>0</td>\n",
       "      <td>2000</td>\n",
       "      <td>three</td>\n",
       "    </tr>\n",
       "    <tr>\n",
       "      <th>1</th>\n",
       "      <td>Diesel</td>\n",
       "      <td>90</td>\n",
       "      <td>1.0</td>\n",
       "      <td>0</td>\n",
       "      <td>2000</td>\n",
       "      <td>3</td>\n",
       "    </tr>\n",
       "    <tr>\n",
       "      <th>2</th>\n",
       "      <td>Diesel</td>\n",
       "      <td>90</td>\n",
       "      <td>NaN</td>\n",
       "      <td>0</td>\n",
       "      <td>2000</td>\n",
       "      <td>3</td>\n",
       "    </tr>\n",
       "    <tr>\n",
       "      <th>3</th>\n",
       "      <td>Diesel</td>\n",
       "      <td>90</td>\n",
       "      <td>0.0</td>\n",
       "      <td>0</td>\n",
       "      <td>2000</td>\n",
       "      <td>3</td>\n",
       "    </tr>\n",
       "    <tr>\n",
       "      <th>4</th>\n",
       "      <td>Diesel</td>\n",
       "      <td>90</td>\n",
       "      <td>0.0</td>\n",
       "      <td>0</td>\n",
       "      <td>2000</td>\n",
       "      <td>3</td>\n",
       "    </tr>\n",
       "    <tr>\n",
       "      <th>5</th>\n",
       "      <td>Diesel</td>\n",
       "      <td>90</td>\n",
       "      <td>0.0</td>\n",
       "      <td>0</td>\n",
       "      <td>2000</td>\n",
       "      <td>3</td>\n",
       "    </tr>\n",
       "    <tr>\n",
       "      <th>6</th>\n",
       "      <td>Diesel</td>\n",
       "      <td>????</td>\n",
       "      <td>NaN</td>\n",
       "      <td>0</td>\n",
       "      <td>2000</td>\n",
       "      <td>3</td>\n",
       "    </tr>\n",
       "    <tr>\n",
       "      <th>7</th>\n",
       "      <td>NaN</td>\n",
       "      <td>90</td>\n",
       "      <td>1.0</td>\n",
       "      <td>0</td>\n",
       "      <td>2000</td>\n",
       "      <td>3</td>\n",
       "    </tr>\n",
       "    <tr>\n",
       "      <th>8</th>\n",
       "      <td>Petrol</td>\n",
       "      <td>192</td>\n",
       "      <td>0.0</td>\n",
       "      <td>0</td>\n",
       "      <td>1800</td>\n",
       "      <td>3</td>\n",
       "    </tr>\n",
       "  </tbody>\n",
       "</table>\n",
       "</div>"
      ],
      "text/plain": [
       "  FuelType    HP  MetColor  Automatic    CC  Doors\n",
       "0   Diesel    90       1.0          0  2000  three\n",
       "1   Diesel    90       1.0          0  2000      3\n",
       "2   Diesel    90       NaN          0  2000      3\n",
       "3   Diesel    90       0.0          0  2000      3\n",
       "4   Diesel    90       0.0          0  2000      3\n",
       "5   Diesel    90       0.0          0  2000      3\n",
       "6   Diesel  ????       NaN          0  2000      3\n",
       "7      NaN    90       1.0          0  2000      3\n",
       "8   Petrol   192       0.0          0  1800      3"
      ]
     },
     "execution_count": 16,
     "metadata": {},
     "output_type": "execute_result"
    }
   ],
   "source": [
    "# dataframe.loc[Group of rows(0:2), Group of columns(fueltype:doors)]\n",
    "\n",
    "df.loc[0:8, 'FuelType':'Doors']"
   ]
  },
  {
   "cell_type": "code",
   "execution_count": null,
   "id": "05365790-6b7f-40ed-8cce-e450cd3b057d",
   "metadata": {},
   "outputs": [],
   "source": []
  },
  {
   "cell_type": "markdown",
   "id": "52ac6519-1f7d-4095-8de4-03c14efd8713",
   "metadata": {},
   "source": [
    "# Data Types\n",
    "\n",
    "<ul>\n",
    "    <li> The way information gets stored in a dataframe or a python object affects the analysis and outputs of calculations.</li>\n",
    "    <li> There are two main types of data.</li>\n",
    "    <ul type = \"circle\"><li>Numeric and Character</li></ul>\n",
    "    <li> Numeric data types includes integers and floats</li>\n",
    "    <ul type = \"circle\"><li>For example: integer - 10, float - 10.53</li></ul>\n",
    "    <li> Strings are known as objects in pandas which can store values that contain numbers or characters</li>\n",
    "    <ul type = \"circle\"><li>For example:'hello1'</li></ul>\n",
    "</ul>"
   ]
  },
  {
   "cell_type": "markdown",
   "id": "80f44bfb-1ef1-431c-8458-5bc707795e3e",
   "metadata": {},
   "source": [
    "# Numeric Types\n",
    "<li>Pandas and base python uses different names for data tpes</li>\n",
    "<table>\n",
    "    <th>Python data type</th>\n",
    "    <th>Pandas data type</th>\n",
    "    <th>Description</th>\n",
    "    <tr>\n",
    "        <td>int</td>\n",
    "        <td>int64</td>\n",
    "            <td>Numeric Characters</td>\n",
    "    </tr>\n",
    "    <tr>\n",
    "        <td>float</td>\n",
    "        <td>float64</td>\n",
    "            <td>Numeric characters with decimals </td>\n",
    "    </tr>\n",
    "</table>\n",
    "'64' simply refers to the memory allocated to store data in each cell which effectively relates to how many digits it can store in each \"cell\" <br>\n",
    "64 bits is equivalent to 8 bytes <br>\n",
    "Allocating space ahead of time allows computers to optimize strong and processing efficiency"
   ]
  },
  {
   "cell_type": "markdown",
   "id": "04a4fa4a-a15a-4d1c-98e5-056a93989c3b",
   "metadata": {},
   "source": [
    "# Character Types\n",
    "<li> Difference between category & object</li>\n",
    "<table>\n",
    "    <th>Category</th>\n",
    "    <th>Object</th>\n",
    "    <tr>\n",
    "        <td> A string variable consisting of only a few different values.Converting such a string variable to a   categorical varibale will save some memory.</td>\n",
    "        <td> The column will be assigned as object data type when it has mixed types(numbers and strings).If a column contains 'nan'(blank cells), pandas will default to object datatype.</td>\n",
    "    </tr>\n",
    "    <tr>\n",
    "        <td> A categorical variable takes on a limited,fixed number of possible values.</td>\n",
    "        <td> For strings, the length is not fixed.</td>\n",
    "    </tr>\n",
    "</table>"
   ]
  },
  {
   "cell_type": "markdown",
   "id": "0718b7e4-34f2-47e9-afd5-7dd9c25726a6",
   "metadata": {},
   "source": [
    "# Checking data types of each column\n",
    "<b>dtypes</b> returns a series with the data type of each column <br>\n",
    "<b>Syntax:</b> DataFrame.dtypes"
   ]
  },
  {
   "cell_type": "code",
   "execution_count": 17,
   "id": "24eec152-ee85-44e7-b656-acf94555fdfd",
   "metadata": {},
   "outputs": [
    {
     "data": {
      "text/plain": [
       "Price          int64\n",
       "Age          float64\n",
       "KM            object\n",
       "FuelType      object\n",
       "HP            object\n",
       "MetColor     float64\n",
       "Automatic      int64\n",
       "CC             int64\n",
       "Doors         object\n",
       "Weight         int64\n",
       "dtype: object"
      ]
     },
     "execution_count": 17,
     "metadata": {},
     "output_type": "execute_result"
    }
   ],
   "source": [
    "df.dtypes"
   ]
  },
  {
   "cell_type": "markdown",
   "id": "5b3bad26-40f1-45af-b35d-b576161de956",
   "metadata": {},
   "source": [
    "# Count of unique data types\n",
    "<b>.dtypes.value_counts()</b> returns counts of unique data types in the dataframe <br>\n",
    "<b>Syntax:</b> DataFrame.dtypes.value_counts()<br>\n",
    "<b>How many int64 are there, how many Hp is there...<b>"
   ]
  },
  {
   "cell_type": "code",
   "execution_count": 18,
   "id": "cdf42fc6-119d-452f-b88b-682099758e05",
   "metadata": {},
   "outputs": [
    {
     "data": {
      "text/plain": [
       "int64      4\n",
       "object     4\n",
       "float64    2\n",
       "Name: count, dtype: int64"
      ]
     },
     "execution_count": 18,
     "metadata": {},
     "output_type": "execute_result"
    }
   ],
   "source": [
    "df.dtypes.value_counts()"
   ]
  },
  {
   "cell_type": "markdown",
   "id": "ead5f86a-8394-453a-86c1-881b71eb11a3",
   "metadata": {},
   "source": [
    "# Selecting data based on data types\n",
    "<b> pandas.DataFrame.select_dtypes() returns a subset of the columns from dataframe based on the column dtypes.<b> <br>\n",
    "<b> Syntax: DataFrame.select_dtypes(include=None,exclude=None)</b>"
   ]
  },
  {
   "cell_type": "code",
   "execution_count": 19,
   "id": "a13c4766-6a0e-4d0a-9a38-31f231485d29",
   "metadata": {},
   "outputs": [
    {
     "data": {
      "text/html": [
       "<div>\n",
       "<style scoped>\n",
       "    .dataframe tbody tr th:only-of-type {\n",
       "        vertical-align: middle;\n",
       "    }\n",
       "\n",
       "    .dataframe tbody tr th {\n",
       "        vertical-align: top;\n",
       "    }\n",
       "\n",
       "    .dataframe thead th {\n",
       "        text-align: right;\n",
       "    }\n",
       "</style>\n",
       "<table border=\"1\" class=\"dataframe\">\n",
       "  <thead>\n",
       "    <tr style=\"text-align: right;\">\n",
       "      <th></th>\n",
       "      <th>Price</th>\n",
       "      <th>Automatic</th>\n",
       "      <th>CC</th>\n",
       "      <th>Weight</th>\n",
       "    </tr>\n",
       "  </thead>\n",
       "  <tbody>\n",
       "    <tr>\n",
       "      <th>0</th>\n",
       "      <td>13500</td>\n",
       "      <td>0</td>\n",
       "      <td>2000</td>\n",
       "      <td>1165</td>\n",
       "    </tr>\n",
       "    <tr>\n",
       "      <th>1</th>\n",
       "      <td>13750</td>\n",
       "      <td>0</td>\n",
       "      <td>2000</td>\n",
       "      <td>1165</td>\n",
       "    </tr>\n",
       "    <tr>\n",
       "      <th>2</th>\n",
       "      <td>13950</td>\n",
       "      <td>0</td>\n",
       "      <td>2000</td>\n",
       "      <td>1165</td>\n",
       "    </tr>\n",
       "    <tr>\n",
       "      <th>3</th>\n",
       "      <td>14950</td>\n",
       "      <td>0</td>\n",
       "      <td>2000</td>\n",
       "      <td>1165</td>\n",
       "    </tr>\n",
       "    <tr>\n",
       "      <th>4</th>\n",
       "      <td>13750</td>\n",
       "      <td>0</td>\n",
       "      <td>2000</td>\n",
       "      <td>1170</td>\n",
       "    </tr>\n",
       "    <tr>\n",
       "      <th>...</th>\n",
       "      <td>...</td>\n",
       "      <td>...</td>\n",
       "      <td>...</td>\n",
       "      <td>...</td>\n",
       "    </tr>\n",
       "    <tr>\n",
       "      <th>1431</th>\n",
       "      <td>7500</td>\n",
       "      <td>0</td>\n",
       "      <td>1300</td>\n",
       "      <td>1025</td>\n",
       "    </tr>\n",
       "    <tr>\n",
       "      <th>1432</th>\n",
       "      <td>10845</td>\n",
       "      <td>0</td>\n",
       "      <td>1300</td>\n",
       "      <td>1015</td>\n",
       "    </tr>\n",
       "    <tr>\n",
       "      <th>1433</th>\n",
       "      <td>8500</td>\n",
       "      <td>0</td>\n",
       "      <td>1300</td>\n",
       "      <td>1015</td>\n",
       "    </tr>\n",
       "    <tr>\n",
       "      <th>1434</th>\n",
       "      <td>7250</td>\n",
       "      <td>0</td>\n",
       "      <td>1300</td>\n",
       "      <td>1015</td>\n",
       "    </tr>\n",
       "    <tr>\n",
       "      <th>1435</th>\n",
       "      <td>6950</td>\n",
       "      <td>0</td>\n",
       "      <td>1600</td>\n",
       "      <td>1114</td>\n",
       "    </tr>\n",
       "  </tbody>\n",
       "</table>\n",
       "<p>1436 rows × 4 columns</p>\n",
       "</div>"
      ],
      "text/plain": [
       "      Price  Automatic    CC  Weight\n",
       "0     13500          0  2000    1165\n",
       "1     13750          0  2000    1165\n",
       "2     13950          0  2000    1165\n",
       "3     14950          0  2000    1165\n",
       "4     13750          0  2000    1170\n",
       "...     ...        ...   ...     ...\n",
       "1431   7500          0  1300    1025\n",
       "1432  10845          0  1300    1015\n",
       "1433   8500          0  1300    1015\n",
       "1434   7250          0  1300    1015\n",
       "1435   6950          0  1600    1114\n",
       "\n",
       "[1436 rows x 4 columns]"
      ]
     },
     "execution_count": 19,
     "metadata": {},
     "output_type": "execute_result"
    }
   ],
   "source": [
    "df.select_dtypes(include=[int])"
   ]
  },
  {
   "cell_type": "code",
   "execution_count": 20,
   "id": "43a5e3db-8f42-477b-8b1a-42112aac2ac2",
   "metadata": {},
   "outputs": [
    {
     "data": {
      "text/html": [
       "<div>\n",
       "<style scoped>\n",
       "    .dataframe tbody tr th:only-of-type {\n",
       "        vertical-align: middle;\n",
       "    }\n",
       "\n",
       "    .dataframe tbody tr th {\n",
       "        vertical-align: top;\n",
       "    }\n",
       "\n",
       "    .dataframe thead th {\n",
       "        text-align: right;\n",
       "    }\n",
       "</style>\n",
       "<table border=\"1\" class=\"dataframe\">\n",
       "  <thead>\n",
       "    <tr style=\"text-align: right;\">\n",
       "      <th></th>\n",
       "      <th>Price</th>\n",
       "      <th>Age</th>\n",
       "      <th>MetColor</th>\n",
       "      <th>Automatic</th>\n",
       "      <th>CC</th>\n",
       "      <th>Weight</th>\n",
       "    </tr>\n",
       "  </thead>\n",
       "  <tbody>\n",
       "    <tr>\n",
       "      <th>0</th>\n",
       "      <td>13500</td>\n",
       "      <td>23.0</td>\n",
       "      <td>1.0</td>\n",
       "      <td>0</td>\n",
       "      <td>2000</td>\n",
       "      <td>1165</td>\n",
       "    </tr>\n",
       "    <tr>\n",
       "      <th>1</th>\n",
       "      <td>13750</td>\n",
       "      <td>23.0</td>\n",
       "      <td>1.0</td>\n",
       "      <td>0</td>\n",
       "      <td>2000</td>\n",
       "      <td>1165</td>\n",
       "    </tr>\n",
       "    <tr>\n",
       "      <th>2</th>\n",
       "      <td>13950</td>\n",
       "      <td>24.0</td>\n",
       "      <td>NaN</td>\n",
       "      <td>0</td>\n",
       "      <td>2000</td>\n",
       "      <td>1165</td>\n",
       "    </tr>\n",
       "    <tr>\n",
       "      <th>3</th>\n",
       "      <td>14950</td>\n",
       "      <td>26.0</td>\n",
       "      <td>0.0</td>\n",
       "      <td>0</td>\n",
       "      <td>2000</td>\n",
       "      <td>1165</td>\n",
       "    </tr>\n",
       "    <tr>\n",
       "      <th>4</th>\n",
       "      <td>13750</td>\n",
       "      <td>30.0</td>\n",
       "      <td>0.0</td>\n",
       "      <td>0</td>\n",
       "      <td>2000</td>\n",
       "      <td>1170</td>\n",
       "    </tr>\n",
       "    <tr>\n",
       "      <th>...</th>\n",
       "      <td>...</td>\n",
       "      <td>...</td>\n",
       "      <td>...</td>\n",
       "      <td>...</td>\n",
       "      <td>...</td>\n",
       "      <td>...</td>\n",
       "    </tr>\n",
       "    <tr>\n",
       "      <th>1431</th>\n",
       "      <td>7500</td>\n",
       "      <td>NaN</td>\n",
       "      <td>1.0</td>\n",
       "      <td>0</td>\n",
       "      <td>1300</td>\n",
       "      <td>1025</td>\n",
       "    </tr>\n",
       "    <tr>\n",
       "      <th>1432</th>\n",
       "      <td>10845</td>\n",
       "      <td>72.0</td>\n",
       "      <td>0.0</td>\n",
       "      <td>0</td>\n",
       "      <td>1300</td>\n",
       "      <td>1015</td>\n",
       "    </tr>\n",
       "    <tr>\n",
       "      <th>1433</th>\n",
       "      <td>8500</td>\n",
       "      <td>NaN</td>\n",
       "      <td>0.0</td>\n",
       "      <td>0</td>\n",
       "      <td>1300</td>\n",
       "      <td>1015</td>\n",
       "    </tr>\n",
       "    <tr>\n",
       "      <th>1434</th>\n",
       "      <td>7250</td>\n",
       "      <td>70.0</td>\n",
       "      <td>1.0</td>\n",
       "      <td>0</td>\n",
       "      <td>1300</td>\n",
       "      <td>1015</td>\n",
       "    </tr>\n",
       "    <tr>\n",
       "      <th>1435</th>\n",
       "      <td>6950</td>\n",
       "      <td>76.0</td>\n",
       "      <td>0.0</td>\n",
       "      <td>0</td>\n",
       "      <td>1600</td>\n",
       "      <td>1114</td>\n",
       "    </tr>\n",
       "  </tbody>\n",
       "</table>\n",
       "<p>1436 rows × 6 columns</p>\n",
       "</div>"
      ],
      "text/plain": [
       "      Price   Age  MetColor  Automatic    CC  Weight\n",
       "0     13500  23.0       1.0          0  2000    1165\n",
       "1     13750  23.0       1.0          0  2000    1165\n",
       "2     13950  24.0       NaN          0  2000    1165\n",
       "3     14950  26.0       0.0          0  2000    1165\n",
       "4     13750  30.0       0.0          0  2000    1170\n",
       "...     ...   ...       ...        ...   ...     ...\n",
       "1431   7500   NaN       1.0          0  1300    1025\n",
       "1432  10845  72.0       0.0          0  1300    1015\n",
       "1433   8500   NaN       0.0          0  1300    1015\n",
       "1434   7250  70.0       1.0          0  1300    1015\n",
       "1435   6950  76.0       0.0          0  1600    1114\n",
       "\n",
       "[1436 rows x 6 columns]"
      ]
     },
     "execution_count": 20,
     "metadata": {},
     "output_type": "execute_result"
    }
   ],
   "source": [
    "df.select_dtypes(include = [int,float])"
   ]
  },
  {
   "cell_type": "code",
   "execution_count": 21,
   "id": "2f367969-6561-4d9b-988d-02661440094e",
   "metadata": {},
   "outputs": [
    {
     "data": {
      "text/html": [
       "<div>\n",
       "<style scoped>\n",
       "    .dataframe tbody tr th:only-of-type {\n",
       "        vertical-align: middle;\n",
       "    }\n",
       "\n",
       "    .dataframe tbody tr th {\n",
       "        vertical-align: top;\n",
       "    }\n",
       "\n",
       "    .dataframe thead th {\n",
       "        text-align: right;\n",
       "    }\n",
       "</style>\n",
       "<table border=\"1\" class=\"dataframe\">\n",
       "  <thead>\n",
       "    <tr style=\"text-align: right;\">\n",
       "      <th></th>\n",
       "      <th>Age</th>\n",
       "      <th>KM</th>\n",
       "      <th>FuelType</th>\n",
       "      <th>HP</th>\n",
       "      <th>MetColor</th>\n",
       "      <th>Doors</th>\n",
       "    </tr>\n",
       "  </thead>\n",
       "  <tbody>\n",
       "    <tr>\n",
       "      <th>0</th>\n",
       "      <td>23.0</td>\n",
       "      <td>46986</td>\n",
       "      <td>Diesel</td>\n",
       "      <td>90</td>\n",
       "      <td>1.0</td>\n",
       "      <td>three</td>\n",
       "    </tr>\n",
       "    <tr>\n",
       "      <th>1</th>\n",
       "      <td>23.0</td>\n",
       "      <td>72937</td>\n",
       "      <td>Diesel</td>\n",
       "      <td>90</td>\n",
       "      <td>1.0</td>\n",
       "      <td>3</td>\n",
       "    </tr>\n",
       "    <tr>\n",
       "      <th>2</th>\n",
       "      <td>24.0</td>\n",
       "      <td>41711</td>\n",
       "      <td>Diesel</td>\n",
       "      <td>90</td>\n",
       "      <td>NaN</td>\n",
       "      <td>3</td>\n",
       "    </tr>\n",
       "    <tr>\n",
       "      <th>3</th>\n",
       "      <td>26.0</td>\n",
       "      <td>48000</td>\n",
       "      <td>Diesel</td>\n",
       "      <td>90</td>\n",
       "      <td>0.0</td>\n",
       "      <td>3</td>\n",
       "    </tr>\n",
       "    <tr>\n",
       "      <th>4</th>\n",
       "      <td>30.0</td>\n",
       "      <td>38500</td>\n",
       "      <td>Diesel</td>\n",
       "      <td>90</td>\n",
       "      <td>0.0</td>\n",
       "      <td>3</td>\n",
       "    </tr>\n",
       "    <tr>\n",
       "      <th>...</th>\n",
       "      <td>...</td>\n",
       "      <td>...</td>\n",
       "      <td>...</td>\n",
       "      <td>...</td>\n",
       "      <td>...</td>\n",
       "      <td>...</td>\n",
       "    </tr>\n",
       "    <tr>\n",
       "      <th>1431</th>\n",
       "      <td>NaN</td>\n",
       "      <td>20544</td>\n",
       "      <td>Petrol</td>\n",
       "      <td>86</td>\n",
       "      <td>1.0</td>\n",
       "      <td>3</td>\n",
       "    </tr>\n",
       "    <tr>\n",
       "      <th>1432</th>\n",
       "      <td>72.0</td>\n",
       "      <td>??</td>\n",
       "      <td>Petrol</td>\n",
       "      <td>86</td>\n",
       "      <td>0.0</td>\n",
       "      <td>3</td>\n",
       "    </tr>\n",
       "    <tr>\n",
       "      <th>1433</th>\n",
       "      <td>NaN</td>\n",
       "      <td>17016</td>\n",
       "      <td>Petrol</td>\n",
       "      <td>86</td>\n",
       "      <td>0.0</td>\n",
       "      <td>3</td>\n",
       "    </tr>\n",
       "    <tr>\n",
       "      <th>1434</th>\n",
       "      <td>70.0</td>\n",
       "      <td>??</td>\n",
       "      <td>NaN</td>\n",
       "      <td>86</td>\n",
       "      <td>1.0</td>\n",
       "      <td>3</td>\n",
       "    </tr>\n",
       "    <tr>\n",
       "      <th>1435</th>\n",
       "      <td>76.0</td>\n",
       "      <td>1</td>\n",
       "      <td>Petrol</td>\n",
       "      <td>110</td>\n",
       "      <td>0.0</td>\n",
       "      <td>5</td>\n",
       "    </tr>\n",
       "  </tbody>\n",
       "</table>\n",
       "<p>1436 rows × 6 columns</p>\n",
       "</div>"
      ],
      "text/plain": [
       "       Age     KM FuelType   HP  MetColor  Doors\n",
       "0     23.0  46986   Diesel   90       1.0  three\n",
       "1     23.0  72937   Diesel   90       1.0      3\n",
       "2     24.0  41711   Diesel   90       NaN      3\n",
       "3     26.0  48000   Diesel   90       0.0      3\n",
       "4     30.0  38500   Diesel   90       0.0      3\n",
       "...    ...    ...      ...  ...       ...    ...\n",
       "1431   NaN  20544   Petrol   86       1.0      3\n",
       "1432  72.0     ??   Petrol   86       0.0      3\n",
       "1433   NaN  17016   Petrol   86       0.0      3\n",
       "1434  70.0     ??      NaN   86       1.0      3\n",
       "1435  76.0      1   Petrol  110       0.0      5\n",
       "\n",
       "[1436 rows x 6 columns]"
      ]
     },
     "execution_count": 21,
     "metadata": {},
     "output_type": "execute_result"
    }
   ],
   "source": [
    "df.select_dtypes(exclude=[int])"
   ]
  },
  {
   "cell_type": "code",
   "execution_count": 22,
   "id": "b50a8215-ed2f-4a00-adf7-d126efbc0be5",
   "metadata": {},
   "outputs": [
    {
     "data": {
      "text/html": [
       "<div>\n",
       "<style scoped>\n",
       "    .dataframe tbody tr th:only-of-type {\n",
       "        vertical-align: middle;\n",
       "    }\n",
       "\n",
       "    .dataframe tbody tr th {\n",
       "        vertical-align: top;\n",
       "    }\n",
       "\n",
       "    .dataframe thead th {\n",
       "        text-align: right;\n",
       "    }\n",
       "</style>\n",
       "<table border=\"1\" class=\"dataframe\">\n",
       "  <thead>\n",
       "    <tr style=\"text-align: right;\">\n",
       "      <th></th>\n",
       "      <th>Age</th>\n",
       "      <th>MetColor</th>\n",
       "    </tr>\n",
       "  </thead>\n",
       "  <tbody>\n",
       "    <tr>\n",
       "      <th>0</th>\n",
       "      <td>23.0</td>\n",
       "      <td>1.0</td>\n",
       "    </tr>\n",
       "    <tr>\n",
       "      <th>1</th>\n",
       "      <td>23.0</td>\n",
       "      <td>1.0</td>\n",
       "    </tr>\n",
       "    <tr>\n",
       "      <th>2</th>\n",
       "      <td>24.0</td>\n",
       "      <td>NaN</td>\n",
       "    </tr>\n",
       "    <tr>\n",
       "      <th>3</th>\n",
       "      <td>26.0</td>\n",
       "      <td>0.0</td>\n",
       "    </tr>\n",
       "    <tr>\n",
       "      <th>4</th>\n",
       "      <td>30.0</td>\n",
       "      <td>0.0</td>\n",
       "    </tr>\n",
       "    <tr>\n",
       "      <th>...</th>\n",
       "      <td>...</td>\n",
       "      <td>...</td>\n",
       "    </tr>\n",
       "    <tr>\n",
       "      <th>1431</th>\n",
       "      <td>NaN</td>\n",
       "      <td>1.0</td>\n",
       "    </tr>\n",
       "    <tr>\n",
       "      <th>1432</th>\n",
       "      <td>72.0</td>\n",
       "      <td>0.0</td>\n",
       "    </tr>\n",
       "    <tr>\n",
       "      <th>1433</th>\n",
       "      <td>NaN</td>\n",
       "      <td>0.0</td>\n",
       "    </tr>\n",
       "    <tr>\n",
       "      <th>1434</th>\n",
       "      <td>70.0</td>\n",
       "      <td>1.0</td>\n",
       "    </tr>\n",
       "    <tr>\n",
       "      <th>1435</th>\n",
       "      <td>76.0</td>\n",
       "      <td>0.0</td>\n",
       "    </tr>\n",
       "  </tbody>\n",
       "</table>\n",
       "<p>1436 rows × 2 columns</p>\n",
       "</div>"
      ],
      "text/plain": [
       "       Age  MetColor\n",
       "0     23.0       1.0\n",
       "1     23.0       1.0\n",
       "2     24.0       NaN\n",
       "3     26.0       0.0\n",
       "4     30.0       0.0\n",
       "...    ...       ...\n",
       "1431   NaN       1.0\n",
       "1432  72.0       0.0\n",
       "1433   NaN       0.0\n",
       "1434  70.0       1.0\n",
       "1435  76.0       0.0\n",
       "\n",
       "[1436 rows x 2 columns]"
      ]
     },
     "execution_count": 22,
     "metadata": {},
     "output_type": "execute_result"
    }
   ],
   "source": [
    "df.select_dtypes(exclude=[object, int])"
   ]
  },
  {
   "cell_type": "markdown",
   "id": "b48395a1-751c-4899-b8bf-b125c427ef6f",
   "metadata": {},
   "source": [
    "# Concise summary of dataframe\n",
    "<b>info()</b> returns a concise summary of a dataframe <br>\n",
    "<li>data type of index</li>\n",
    "<li>data type of columns</li>\n",
    "<li>count of non-null values</li>\n",
    "<li>memory usage</li>\n",
    "<b>Syntax: </b> DataFrame.info()"
   ]
  },
  {
   "cell_type": "code",
   "execution_count": 23,
   "id": "bd9b2688-6ee6-4b1e-a7c4-c96877f53498",
   "metadata": {},
   "outputs": [
    {
     "name": "stdout",
     "output_type": "stream",
     "text": [
      "<class 'pandas.core.frame.DataFrame'>\n",
      "Index: 1436 entries, 0 to 1435\n",
      "Data columns (total 10 columns):\n",
      " #   Column     Non-Null Count  Dtype  \n",
      "---  ------     --------------  -----  \n",
      " 0   Price      1436 non-null   int64  \n",
      " 1   Age        1336 non-null   float64\n",
      " 2   KM         1436 non-null   object \n",
      " 3   FuelType   1336 non-null   object \n",
      " 4   HP         1436 non-null   object \n",
      " 5   MetColor   1286 non-null   float64\n",
      " 6   Automatic  1436 non-null   int64  \n",
      " 7   CC         1436 non-null   int64  \n",
      " 8   Doors      1436 non-null   object \n",
      " 9   Weight     1436 non-null   int64  \n",
      "dtypes: float64(2), int64(4), object(4)\n",
      "memory usage: 155.7+ KB\n"
     ]
    }
   ],
   "source": [
    "df.info()"
   ]
  },
  {
   "cell_type": "markdown",
   "id": "46b8a4f1-8ccd-4c82-badd-d9884a5e6052",
   "metadata": {},
   "source": [
    "# Checking the format of each column\n",
    "By using info(), we can see\n",
    "<li> 'KM' has been read as object instead of integer</li>\n",
    "<li> 'HP' has been read as object instead of integer</li>\n",
    "<li> 'Doors' should have been read as int64 since it has values 2,3,4,5.But it has been read as object</li>\n",
    "<li> Missing values present in few variables</li>"
   ]
  },
  {
   "cell_type": "markdown",
   "id": "dd4a5023-eb13-4d3a-b6ae-28ccae15015e",
   "metadata": {},
   "source": [
    "# Unique elements of columns\n",
    "\n",
    "<b> Unique(): is used to find the unique elements of a column </b> <br>\n",
    "<b> Syntax: numpy.unique(array) </b> <br>\n",
    "<b> This method not gonna take whole dataframe, it just take a array </b>"
   ]
  },
  {
   "cell_type": "code",
   "execution_count": 24,
   "id": "9dbd574b-6d8b-4889-acd3-01ebacceb434",
   "metadata": {},
   "outputs": [
    {
     "name": "stdout",
     "output_type": "stream",
     "text": [
      "['1' '10000' '100123' ... '99865' '99971' '??']\n"
     ]
    }
   ],
   "source": [
    "import numpy as np\n",
    "print(np.unique(df[\"KM\"]))\n",
    "\n",
    "## This KM read as object instead of int64 because in our \"KM\" column we have special character as \"??\", \n",
    "## so we double question mark in our column that's why it is read as object type and same explanation goes for other columns"
   ]
  },
  {
   "cell_type": "code",
   "execution_count": 25,
   "id": "eb7768a6-a149-4b75-bfb3-e7b695115b22",
   "metadata": {},
   "outputs": [
    {
     "name": "stdout",
     "output_type": "stream",
     "text": [
      "['107' '110' '116' '192' '69' '71' '72' '73' '86' '90' '97' '98' '????']\n"
     ]
    }
   ],
   "source": [
    "print(np.unique(df[\"HP\"]))"
   ]
  },
  {
   "cell_type": "code",
   "execution_count": 26,
   "id": "fda2ee54-92f7-418c-8d65-e5c472f27696",
   "metadata": {},
   "outputs": [
    {
     "name": "stdout",
     "output_type": "stream",
     "text": [
      "['2' '3' '4' '5' 'five' 'four' 'three']\n"
     ]
    }
   ],
   "source": [
    "print(np.unique(df[\"Doors\"]))\n",
    "## In doors we have string values that's why this is read as object type instead of int64."
   ]
  },
  {
   "cell_type": "code",
   "execution_count": null,
   "id": "1f31d925-686e-4080-85ef-770c4b19e16d",
   "metadata": {},
   "outputs": [],
   "source": []
  },
  {
   "cell_type": "markdown",
   "id": "c5c70bc4-445a-4a8f-8a96-1335511fabbd",
   "metadata": {},
   "source": [
    "# Importing data"
   ]
  },
  {
   "cell_type": "markdown",
   "id": "e2b0064d-8064-4766-8c0d-72d6fdded031",
   "metadata": {},
   "source": [
    "# Concise Summary of dataframe"
   ]
  },
  {
   "cell_type": "code",
   "execution_count": 27,
   "id": "04fa7d9d-87e0-4390-b7e2-039e463f8824",
   "metadata": {},
   "outputs": [
    {
     "name": "stdout",
     "output_type": "stream",
     "text": [
      "<class 'pandas.core.frame.DataFrame'>\n",
      "Index: 1436 entries, 0 to 1435\n",
      "Data columns (total 10 columns):\n",
      " #   Column     Non-Null Count  Dtype  \n",
      "---  ------     --------------  -----  \n",
      " 0   Price      1436 non-null   int64  \n",
      " 1   Age        1336 non-null   float64\n",
      " 2   KM         1436 non-null   object \n",
      " 3   FuelType   1336 non-null   object \n",
      " 4   HP         1436 non-null   object \n",
      " 5   MetColor   1286 non-null   float64\n",
      " 6   Automatic  1436 non-null   int64  \n",
      " 7   CC         1436 non-null   int64  \n",
      " 8   Doors      1436 non-null   object \n",
      " 9   Weight     1436 non-null   int64  \n",
      "dtypes: float64(2), int64(4), object(4)\n",
      "memory usage: 123.4+ KB\n",
      "None\n"
     ]
    }
   ],
   "source": [
    "import pandas as pd \n",
    "import numpy as np\n",
    "df = pd.read_csv('Toyota.csv', index_col = 0)\n",
    "print(df.info())"
   ]
  },
  {
   "cell_type": "code",
   "execution_count": 28,
   "id": "9dbc92b3-c52a-4508-8a04-a3d679f6fdb5",
   "metadata": {},
   "outputs": [
    {
     "name": "stdout",
     "output_type": "stream",
     "text": [
      "<class 'pandas.core.frame.DataFrame'>\n",
      "Index: 1436 entries, 0 to 1435\n",
      "Data columns (total 10 columns):\n",
      " #   Column     Non-Null Count  Dtype  \n",
      "---  ------     --------------  -----  \n",
      " 0   Price      1436 non-null   int64  \n",
      " 1   Age        1336 non-null   float64\n",
      " 2   KM         1421 non-null   float64\n",
      " 3   FuelType   1336 non-null   object \n",
      " 4   HP         1430 non-null   float64\n",
      " 5   MetColor   1286 non-null   float64\n",
      " 6   Automatic  1436 non-null   int64  \n",
      " 7   CC         1436 non-null   int64  \n",
      " 8   Doors      1436 non-null   object \n",
      " 9   Weight     1436 non-null   int64  \n",
      "dtypes: float64(4), int64(4), object(2)\n",
      "memory usage: 123.4+ KB\n",
      "None\n"
     ]
    }
   ],
   "source": [
    "df = pd.read_csv(\"Toyota.csv\", index_col = 0, na_values = ['??', '????'])\n",
    "print(df.info())"
   ]
  },
  {
   "cell_type": "markdown",
   "id": "cc3f73f4-952c-4a64-8eb9-b2d832c2679f",
   "metadata": {},
   "source": [
    "# Converting Variable's data types\n",
    "<b>astype()</b> method is used to explicitly convert data types from one to another. <br>\n",
    "<b>Syntax: </b> DataFrame.astype(dtype)\n",
    "\n",
    "<b> How to convert columns data type, variable refers in dataframe as the columns. <b>"
   ]
  },
  {
   "cell_type": "code",
   "execution_count": 29,
   "id": "7d24a37a-a358-4fb2-9049-606df44fec60",
   "metadata": {},
   "outputs": [],
   "source": [
    "# we are converting metcolor datatype int64 into object datatype\n",
    "# the changes should reflect on that column only.\n",
    "\n",
    "df['MetColor'] = df['MetColor'].astype('object')\n",
    "df['Automatic'] = df['Automatic'].astype('object')"
   ]
  },
  {
   "cell_type": "code",
   "execution_count": 30,
   "id": "2d5a5103-a150-4fed-9986-e244ec3214d3",
   "metadata": {},
   "outputs": [
    {
     "name": "stdout",
     "output_type": "stream",
     "text": [
      "<class 'pandas.core.frame.DataFrame'>\n",
      "Index: 1436 entries, 0 to 1435\n",
      "Data columns (total 10 columns):\n",
      " #   Column     Non-Null Count  Dtype  \n",
      "---  ------     --------------  -----  \n",
      " 0   Price      1436 non-null   int64  \n",
      " 1   Age        1336 non-null   float64\n",
      " 2   KM         1421 non-null   float64\n",
      " 3   FuelType   1336 non-null   object \n",
      " 4   HP         1430 non-null   float64\n",
      " 5   MetColor   1286 non-null   object \n",
      " 6   Automatic  1436 non-null   object \n",
      " 7   CC         1436 non-null   int64  \n",
      " 8   Doors      1436 non-null   object \n",
      " 9   Weight     1436 non-null   int64  \n",
      "dtypes: float64(3), int64(3), object(4)\n",
      "memory usage: 123.4+ KB\n"
     ]
    }
   ],
   "source": [
    "df.info()"
   ]
  },
  {
   "cell_type": "markdown",
   "id": "f7be13d4-d9e5-4bc6-bf0d-0dc58e5ba3b4",
   "metadata": {},
   "source": [
    "# Category VS Object Data Type\n",
    "<b>nbytes()</b> is used to get the total bytes consumed by the elements of the columns <br>\n",
    "<b>Syntax:</b> ndarray.nbytes <br>\n",
    "This is not a method but attritbute"
   ]
  },
  {
   "cell_type": "code",
   "execution_count": 31,
   "id": "0e0040b5-22fe-49ef-aaed-8ef0d86f6ae7",
   "metadata": {},
   "outputs": [
    {
     "data": {
      "text/plain": [
       "11488"
      ]
     },
     "execution_count": 31,
     "metadata": {},
     "output_type": "execute_result"
    }
   ],
   "source": [
    "df['FuelType'].nbytes"
   ]
  },
  {
   "cell_type": "code",
   "execution_count": 32,
   "id": "6803d087-cb92-4fd4-8207-aaddfe9a42cb",
   "metadata": {},
   "outputs": [
    {
     "data": {
      "text/plain": [
       "1460"
      ]
     },
     "execution_count": 32,
     "metadata": {},
     "output_type": "execute_result"
    }
   ],
   "source": [
    "df['FuelType'].astype('category').nbytes"
   ]
  },
  {
   "cell_type": "markdown",
   "id": "93e84e73-f837-4de0-b320-c0ccf68ce71c",
   "metadata": {},
   "source": [
    "# Re-Checking the data type of variables"
   ]
  },
  {
   "cell_type": "code",
   "execution_count": 33,
   "id": "280d8e1e-00a3-414b-8744-e6d43a721bed",
   "metadata": {},
   "outputs": [
    {
     "name": "stdout",
     "output_type": "stream",
     "text": [
      "<class 'pandas.core.frame.DataFrame'>\n",
      "Index: 1436 entries, 0 to 1435\n",
      "Data columns (total 10 columns):\n",
      " #   Column     Non-Null Count  Dtype  \n",
      "---  ------     --------------  -----  \n",
      " 0   Price      1436 non-null   int64  \n",
      " 1   Age        1336 non-null   float64\n",
      " 2   KM         1421 non-null   float64\n",
      " 3   FuelType   1336 non-null   object \n",
      " 4   HP         1430 non-null   float64\n",
      " 5   MetColor   1286 non-null   object \n",
      " 6   Automatic  1436 non-null   object \n",
      " 7   CC         1436 non-null   int64  \n",
      " 8   Doors      1436 non-null   object \n",
      " 9   Weight     1436 non-null   int64  \n",
      "dtypes: float64(3), int64(3), object(4)\n",
      "memory usage: 123.4+ KB\n"
     ]
    }
   ],
   "source": [
    "df.info()"
   ]
  },
  {
   "cell_type": "markdown",
   "id": "a636f549-74fd-4c26-9d96-4139dcac737b",
   "metadata": {},
   "source": [
    "# Cleaning columns 'Doors'\n",
    "<b>Replace()</b> is used to replace a value with the desired value. <br>\n",
    "<b>Syntax:</b> DataFrame.replace([to_replace,value]) <br>\n",
    "<b>to_replace-> means that value we want to replace, and the value - means we want to replace</b> <br>\n",
    "<b>df['']->this is for accessing the column</b> <br>\n",
    "<b>Inplace = True </b> Will allow us to reflect the changes in our desired selected column."
   ]
  },
  {
   "cell_type": "code",
   "execution_count": 34,
   "id": "d09894f9-5614-4c03-907c-a7744c7062bb",
   "metadata": {},
   "outputs": [
    {
     "name": "stderr",
     "output_type": "stream",
     "text": [
      "/tmp/ipykernel_7046/436973468.py:1: FutureWarning: A value is trying to be set on a copy of a DataFrame or Series through chained assignment using an inplace method.\n",
      "The behavior will change in pandas 3.0. This inplace method will never work because the intermediate object on which we are setting values always behaves as a copy.\n",
      "\n",
      "For example, when doing 'df[col].method(value, inplace=True)', try using 'df.method({col: value}, inplace=True)' or df[col] = df[col].method(value) instead, to perform the operation inplace on the original object.\n",
      "\n",
      "\n",
      "  df['Doors'].replace('three', 3, inplace=True)\n",
      "/tmp/ipykernel_7046/436973468.py:2: FutureWarning: A value is trying to be set on a copy of a DataFrame or Series through chained assignment using an inplace method.\n",
      "The behavior will change in pandas 3.0. This inplace method will never work because the intermediate object on which we are setting values always behaves as a copy.\n",
      "\n",
      "For example, when doing 'df[col].method(value, inplace=True)', try using 'df.method({col: value}, inplace=True)' or df[col] = df[col].method(value) instead, to perform the operation inplace on the original object.\n",
      "\n",
      "\n",
      "  df['Doors'].replace('four', 4, inplace=True)\n",
      "/tmp/ipykernel_7046/436973468.py:3: FutureWarning: A value is trying to be set on a copy of a DataFrame or Series through chained assignment using an inplace method.\n",
      "The behavior will change in pandas 3.0. This inplace method will never work because the intermediate object on which we are setting values always behaves as a copy.\n",
      "\n",
      "For example, when doing 'df[col].method(value, inplace=True)', try using 'df.method({col: value}, inplace=True)' or df[col] = df[col].method(value) instead, to perform the operation inplace on the original object.\n",
      "\n",
      "\n",
      "  df['Doors'].replace('five', 5, inplace=True)\n"
     ]
    }
   ],
   "source": [
    "df['Doors'].replace('three', 3, inplace=True)\n",
    "df['Doors'].replace('four', 4, inplace=True)\n",
    "df['Doors'].replace('five', 5, inplace=True)"
   ]
  },
  {
   "cell_type": "code",
   "execution_count": 35,
   "id": "4f78e316-6b56-44e4-9acf-66becd4c9603",
   "metadata": {},
   "outputs": [],
   "source": [
    "# Alternate option\n",
    "# df['Doors'] = df['Doors'].replace({'three': 3, 'four': 4, 'five': 5})\n"
   ]
  },
  {
   "cell_type": "markdown",
   "id": "93dbce77-79e4-4518-8c7c-aa87e57e3957",
   "metadata": {},
   "source": [
    "# Converting 'Doors' data type"
   ]
  },
  {
   "cell_type": "code",
   "execution_count": 36,
   "id": "3861d700-b299-4ef4-b71f-b62c511fb437",
   "metadata": {},
   "outputs": [],
   "source": [
    "df['Doors'] = df['Doors'].astype('int64')"
   ]
  },
  {
   "cell_type": "code",
   "execution_count": 37,
   "id": "998cda24-c9e3-46ff-8837-0625afaa5d0a",
   "metadata": {},
   "outputs": [
    {
     "name": "stdout",
     "output_type": "stream",
     "text": [
      "<class 'pandas.core.frame.DataFrame'>\n",
      "Index: 1436 entries, 0 to 1435\n",
      "Data columns (total 10 columns):\n",
      " #   Column     Non-Null Count  Dtype  \n",
      "---  ------     --------------  -----  \n",
      " 0   Price      1436 non-null   int64  \n",
      " 1   Age        1336 non-null   float64\n",
      " 2   KM         1421 non-null   float64\n",
      " 3   FuelType   1336 non-null   object \n",
      " 4   HP         1430 non-null   float64\n",
      " 5   MetColor   1286 non-null   object \n",
      " 6   Automatic  1436 non-null   object \n",
      " 7   CC         1436 non-null   int64  \n",
      " 8   Doors      1436 non-null   int64  \n",
      " 9   Weight     1436 non-null   int64  \n",
      "dtypes: float64(3), int64(4), object(3)\n",
      "memory usage: 123.4+ KB\n"
     ]
    }
   ],
   "source": [
    "df.info()"
   ]
  },
  {
   "cell_type": "markdown",
   "id": "764a6739-5b99-4e45-9429-369d5200dbfe",
   "metadata": {},
   "source": [
    "# To detect the missing values\n",
    "\n",
    "TO check the count of missing values present in each column <b>DataFrame.isnull.sum()</b> is used"
   ]
  },
  {
   "cell_type": "code",
   "execution_count": 38,
   "id": "b552ac3c-4205-4541-b616-d6f5f04d27d5",
   "metadata": {},
   "outputs": [
    {
     "data": {
      "text/plain": [
       "Price          0\n",
       "Age          100\n",
       "KM            15\n",
       "FuelType     100\n",
       "HP             6\n",
       "MetColor     150\n",
       "Automatic      0\n",
       "CC             0\n",
       "Doors          0\n",
       "Weight         0\n",
       "dtype: int64"
      ]
     },
     "execution_count": 38,
     "metadata": {},
     "output_type": "execute_result"
    }
   ],
   "source": [
    "df.isnull().sum()"
   ]
  }
 ],
 "metadata": {
  "kernelspec": {
   "display_name": "Python 3 (ipykernel)",
   "language": "python",
   "name": "python3"
  },
  "language_info": {
   "codemirror_mode": {
    "name": "ipython",
    "version": 3
   },
   "file_extension": ".py",
   "mimetype": "text/x-python",
   "name": "python",
   "nbconvert_exporter": "python",
   "pygments_lexer": "ipython3",
   "version": "3.10.11"
  }
 },
 "nbformat": 4,
 "nbformat_minor": 5
}
