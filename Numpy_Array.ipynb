{
 "cells": [
  {
   "cell_type": "code",
   "execution_count": 1,
   "id": "f3e916eb-8e9f-4042-aad5-bf73b9f776a1",
   "metadata": {},
   "outputs": [],
   "source": [
    "import numpy as np"
   ]
  },
  {
   "cell_type": "code",
   "execution_count": 4,
   "id": "3921d7f0-28d0-4581-a91a-8cc3a983c188",
   "metadata": {},
   "outputs": [
    {
     "data": {
      "text/plain": [
       "array([1, 2, 3, 4, 5])"
      ]
     },
     "execution_count": 4,
     "metadata": {},
     "output_type": "execute_result"
    }
   ],
   "source": [
    "# 1-D array\n",
    "a = [1,2,3,4,5]\n",
    "\n",
    "arr = np.array(a)\n",
    "arr"
   ]
  },
  {
   "cell_type": "code",
   "execution_count": 7,
   "id": "d1731878-5908-448f-8708-ee98ecc38b5d",
   "metadata": {},
   "outputs": [
    {
     "data": {
      "text/plain": [
       "1"
      ]
     },
     "execution_count": 7,
     "metadata": {},
     "output_type": "execute_result"
    }
   ],
   "source": [
    "# To check dimenion of array\n",
    "\n",
    "arr.ndim"
   ]
  },
  {
   "cell_type": "code",
   "execution_count": 13,
   "id": "5f3eaeb9-6480-42b4-b749-9d3171fb982c",
   "metadata": {},
   "outputs": [
    {
     "name": "stdout",
     "output_type": "stream",
     "text": [
      "[1 2 3 4 5 6 7]\n",
      "1\n"
     ]
    }
   ],
   "source": [
    "# alternate way to write 1-D array/direct array\n",
    "arr1 = np.array([1,2,3,4,5,6,7])\n",
    "print(arr1)\n",
    "\n",
    "print(arr1.ndim)"
   ]
  },
  {
   "cell_type": "code",
   "execution_count": 14,
   "id": "f03a646a-0cfa-443a-a842-085523906d93",
   "metadata": {},
   "outputs": [
    {
     "data": {
      "text/plain": [
       "dtype('int64')"
      ]
     },
     "execution_count": 14,
     "metadata": {},
     "output_type": "execute_result"
    }
   ],
   "source": [
    "arr.dtype"
   ]
  },
  {
   "cell_type": "code",
   "execution_count": 17,
   "id": "76d4ff22-5ae1-4417-ba79-6d8231fd1a17",
   "metadata": {},
   "outputs": [
    {
     "data": {
      "text/plain": [
       "(5,)"
      ]
     },
     "execution_count": 17,
     "metadata": {},
     "output_type": "execute_result"
    }
   ],
   "source": [
    "# Shape of Array\n",
    "\n",
    "arr.shape\n",
    "\n",
    "# it's 1d array that's why it is showing only row(it start at 1 and end at 7)"
   ]
  },
  {
   "cell_type": "code",
   "execution_count": 18,
   "id": "12386aa9-f6fa-4088-971f-e884cf204438",
   "metadata": {},
   "outputs": [
    {
     "data": {
      "text/plain": [
       "5"
      ]
     },
     "execution_count": 18,
     "metadata": {},
     "output_type": "execute_result"
    }
   ],
   "source": [
    "# Size of Array\n",
    "\n",
    "arr.size"
   ]
  },
  {
   "cell_type": "code",
   "execution_count": 20,
   "id": "ec69c408-5dee-4a71-80fa-3b2d3fcb7d1b",
   "metadata": {},
   "outputs": [
    {
     "data": {
      "text/plain": [
       "array([[1, 2, 3],\n",
       "       [4, 5, 6]])"
      ]
     },
     "execution_count": 20,
     "metadata": {},
     "output_type": "execute_result"
    }
   ],
   "source": [
    "# Two Dimensional array\n",
    "# first we create a list and then list inside list as child list\n",
    "\n",
    "b = [[1,2,3],[4,5,6]]\n",
    "arr2 = np.array(b)\n",
    "arr2"
   ]
  },
  {
   "cell_type": "code",
   "execution_count": 22,
   "id": "c47f5a8b-8e09-4b41-92f7-19d7fc608024",
   "metadata": {},
   "outputs": [
    {
     "data": {
      "text/plain": [
       "2"
      ]
     },
     "execution_count": 22,
     "metadata": {},
     "output_type": "execute_result"
    }
   ],
   "source": [
    "arr2.ndim"
   ]
  },
  {
   "cell_type": "code",
   "execution_count": 23,
   "id": "1de39c77-0022-4e43-b2e4-2043401ef735",
   "metadata": {},
   "outputs": [
    {
     "data": {
      "text/plain": [
       "array([[1, 2, 3],\n",
       "       [4, 5, 6]])"
      ]
     },
     "execution_count": 23,
     "metadata": {},
     "output_type": "execute_result"
    }
   ],
   "source": [
    "# Alternate way to write 2d array\n",
    "\n",
    "arr3 = np.array([[1,2,3],[4,5,6]])\n",
    "arr3"
   ]
  },
  {
   "cell_type": "code",
   "execution_count": 26,
   "id": "e9e83ae7-d9dd-40fb-ba9f-7e706a5f1222",
   "metadata": {},
   "outputs": [
    {
     "name": "stdout",
     "output_type": "stream",
     "text": [
      "(2, 3)\n",
      "6\n",
      "int64\n"
     ]
    }
   ],
   "source": [
    "# (2, 3) -> 2 for row and 3 for column\n",
    "print(arr3.shape)\n",
    "print(arr3.size)\n",
    "print(arr3.dtype)"
   ]
  },
  {
   "cell_type": "code",
   "execution_count": 27,
   "id": "63ad443c-3e09-4ed4-b261-e2468e47b63b",
   "metadata": {},
   "outputs": [
    {
     "data": {
      "text/plain": [
       "array([ 1,  2,  3,  4,  5,  6,  7,  8,  9, 10, 11, 12, 13, 14])"
      ]
     },
     "execution_count": 27,
     "metadata": {},
     "output_type": "execute_result"
    }
   ],
   "source": [
    "# Another way to create array using arange function it is more effiecent then range function\n",
    "# arange(start point, ending point,step) --> so if we don't give step bydefault it's 1 and ending point is excluded \n",
    "# -> like arange from 1,15 it only write till 14\n",
    "\n",
    "arr4 = np.arange(1,15)\n",
    "arr4"
   ]
  },
  {
   "cell_type": "code",
   "execution_count": 28,
   "id": "6058b8f8-a3f0-41d4-93fc-6309f912ff72",
   "metadata": {},
   "outputs": [
    {
     "data": {
      "text/plain": [
       "array([ 1,  4,  7, 10, 13, 16])"
      ]
     },
     "execution_count": 28,
     "metadata": {},
     "output_type": "execute_result"
    }
   ],
   "source": [
    "arr4 = np.arange(1,19,3)\n",
    "arr4"
   ]
  },
  {
   "cell_type": "code",
   "execution_count": 30,
   "id": "e1b94032-213d-448a-9776-3b2e1dcea5d0",
   "metadata": {},
   "outputs": [
    {
     "name": "stdout",
     "output_type": "stream",
     "text": [
      "[ 2  4  6  8 10 12 14 16 18]\n",
      "[ 1  4  7 10 13 16 19]\n"
     ]
    }
   ],
   "source": [
    "# To write odd and even through arange\n",
    "\n",
    "arr5 = np.arange(2,19,2) # To write even numbers\n",
    "arr6 = np.arange(1,20,3) # To write odd numbers\n",
    "print(arr5)\n",
    "print(arr6)"
   ]
  },
  {
   "cell_type": "markdown",
   "id": "ef3b5a47-94ad-471b-8ca3-2483204f8662",
   "metadata": {},
   "source": [
    "# Numpy Functions"
   ]
  },
  {
   "cell_type": "code",
   "execution_count": 33,
   "id": "80e07d0a-1a93-4fd3-8c7d-84273d185151",
   "metadata": {},
   "outputs": [
    {
     "name": "stdout",
     "output_type": "stream",
     "text": [
      "[0. 0. 0. 0. 0. 0. 0. 0.]\n",
      "1\n"
     ]
    }
   ],
   "source": [
    "# create 1d array\n",
    "arr = np.zeros(8)\n",
    "print(arr)\n",
    "print(arr.ndim)"
   ]
  },
  {
   "cell_type": "code",
   "execution_count": 34,
   "id": "3f3571ac-4184-41d8-903e-9e126f938512",
   "metadata": {},
   "outputs": [
    {
     "data": {
      "text/plain": [
       "array([[0., 0., 0.],\n",
       "       [0., 0., 0.]])"
      ]
     },
     "execution_count": 34,
     "metadata": {},
     "output_type": "execute_result"
    }
   ],
   "source": [
    "# create 2d array\n",
    "# arr = np.zeros([rows,columns])\n",
    "arr = np.zeros([2,3])\n",
    "arr"
   ]
  },
  {
   "cell_type": "code",
   "execution_count": 35,
   "id": "1c7010ed-3b2d-4417-8964-330be38a0793",
   "metadata": {},
   "outputs": [
    {
     "name": "stdout",
     "output_type": "stream",
     "text": [
      "[1. 1. 1. 1. 1. 1. 1. 1.]\n",
      "1\n"
     ]
    }
   ],
   "source": [
    "arr1 = np.ones(8)\n",
    "print(arr1)\n",
    "print(arr1.ndim)"
   ]
  },
  {
   "cell_type": "code",
   "execution_count": 36,
   "id": "8a0b4f15-5692-4cff-8ab0-bda91af95837",
   "metadata": {},
   "outputs": [
    {
     "name": "stdout",
     "output_type": "stream",
     "text": [
      "[[1. 1. 1. 1. 1. 1. 1. 1. 1. 1. 1. 1.]\n",
      " [1. 1. 1. 1. 1. 1. 1. 1. 1. 1. 1. 1.]\n",
      " [1. 1. 1. 1. 1. 1. 1. 1. 1. 1. 1. 1.]\n",
      " [1. 1. 1. 1. 1. 1. 1. 1. 1. 1. 1. 1.]\n",
      " [1. 1. 1. 1. 1. 1. 1. 1. 1. 1. 1. 1.]]\n",
      "2\n"
     ]
    }
   ],
   "source": [
    "arr1 = np.ones([5,12])\n",
    "print(arr1)\n",
    "print(arr1.ndim)"
   ]
  },
  {
   "cell_type": "code",
   "execution_count": 37,
   "id": "87ab8556-17bd-4586-a8a6-f4c8153f1d52",
   "metadata": {},
   "outputs": [
    {
     "data": {
      "text/plain": [
       "array([[1., 0., 0., 0.],\n",
       "       [0., 1., 0., 0.],\n",
       "       [0., 0., 1., 0.],\n",
       "       [0., 0., 0., 1.]])"
      ]
     },
     "execution_count": 37,
     "metadata": {},
     "output_type": "execute_result"
    }
   ],
   "source": [
    "# np.eye function is used to write array 1 diagonally(diagonally once[1] has been printed & rest of the elements are zero)\n",
    "# when we use the function diagonally it gives one, so if i change it's from 4 to 3. so 3 ones diagonally printed and rest element zero.\n",
    "\n",
    "arr2 = np.eye(4)\n",
    "arr2"
   ]
  },
  {
   "cell_type": "code",
   "execution_count": 38,
   "id": "9e7165f3-c2f0-4850-9a38-89f40ae7e6e0",
   "metadata": {},
   "outputs": [
    {
     "data": {
      "text/plain": [
       "array([[1., 0., 0., 0.],\n",
       "       [0., 1., 0., 0.],\n",
       "       [0., 0., 1., 0.],\n",
       "       [0., 0., 0., 1.]])"
      ]
     },
     "execution_count": 38,
     "metadata": {},
     "output_type": "execute_result"
    }
   ],
   "source": [
    "arr2 = np.eye(4)\n",
    "arr2"
   ]
  },
  {
   "cell_type": "code",
   "execution_count": 41,
   "id": "fdf6aa73-b8b3-44c0-b87b-cfe0b923b23c",
   "metadata": {},
   "outputs": [
    {
     "data": {
      "text/plain": [
       "array([[1., 0., 0., 0., 0.],\n",
       "       [0., 1., 0., 0., 0.],\n",
       "       [0., 0., 1., 0., 0.],\n",
       "       [0., 0., 0., 1., 0.],\n",
       "       [0., 0., 0., 0., 1.]])"
      ]
     },
     "execution_count": 41,
     "metadata": {},
     "output_type": "execute_result"
    }
   ],
   "source": [
    "arr2 = np.eye(5) # 5 row and 5 column\n",
    "arr2"
   ]
  },
  {
   "cell_type": "code",
   "execution_count": 42,
   "id": "b8bdcf9d-feed-4fad-abb0-5ce425459c9f",
   "metadata": {},
   "outputs": [
    {
     "data": {
      "text/plain": [
       "array([[1., 0., 0., 0., 0., 0.],\n",
       "       [0., 1., 0., 0., 0., 0.],\n",
       "       [0., 0., 1., 0., 0., 0.],\n",
       "       [0., 0., 0., 1., 0., 0.]])"
      ]
     },
     "execution_count": 42,
     "metadata": {},
     "output_type": "execute_result"
    }
   ],
   "source": [
    "arr2 = np.eye(4,6) # to write the rectangle array 4 row , 6 column\n",
    "arr2\n",
    "\n",
    "# they are not in diagonal shpae this is the only drawback in it"
   ]
  },
  {
   "cell_type": "code",
   "execution_count": 43,
   "id": "326e3bbf-3a65-41a9-9ec2-3efec7a0c114",
   "metadata": {},
   "outputs": [
    {
     "data": {
      "text/plain": [
       "array([[4, 0, 0, 0, 0, 0],\n",
       "       [0, 5, 0, 0, 0, 0],\n",
       "       [0, 0, 6, 0, 0, 0],\n",
       "       [0, 0, 0, 7, 0, 0],\n",
       "       [0, 0, 0, 0, 8, 0],\n",
       "       [0, 0, 0, 0, 0, 9]])"
      ]
     },
     "execution_count": 43,
     "metadata": {},
     "output_type": "execute_result"
    }
   ],
   "source": [
    "# diag stands for diagonal and the number print diagonally and rest of element are zeros\n",
    "arr = np.diag([4,5,6,7,8,9])\n",
    "arr"
   ]
  },
  {
   "cell_type": "code",
   "execution_count": 45,
   "id": "19280270-f329-4c03-83dd-789721eb7f67",
   "metadata": {},
   "outputs": [
    {
     "data": {
      "text/plain": [
       "array([[4, 0, 0],\n",
       "       [0, 5, 0],\n",
       "       [0, 0, 6]])"
      ]
     },
     "execution_count": 45,
     "metadata": {},
     "output_type": "execute_result"
    }
   ],
   "source": [
    "arr = np.diag([4,5,6])\n",
    "arr"
   ]
  },
  {
   "cell_type": "code",
   "execution_count": 48,
   "id": "911d8c7b-3c4a-468f-9a5b-5dc42c0e2c71",
   "metadata": {},
   "outputs": [
    {
     "data": {
      "text/plain": [
       "array([2, 7, 5, 5, 7, 8])"
      ]
     },
     "execution_count": 48,
     "metadata": {},
     "output_type": "execute_result"
    }
   ],
   "source": [
    "# To print random integers\n",
    "# np.random.randint(minimum[means where to start], maximum[where to end],total no of values)\n",
    "\n",
    "arr = np.random.randint(1,10,6)\n",
    "arr\n",
    "arr"
   ]
  },
  {
   "cell_type": "code",
   "execution_count": 51,
   "id": "eacc9d9c-ddf5-4507-a167-bd1dddadfdc4",
   "metadata": {},
   "outputs": [
    {
     "name": "stdout",
     "output_type": "stream",
     "text": [
      "[0.98115149 0.71734516 0.31530169 0.17250861 0.2647624 ]\n",
      "1\n"
     ]
    }
   ],
   "source": [
    "# random.rand takes only one value and those value range from 0 to 1.\n",
    "arr = np.random.rand(5)\n",
    "print(arr)\n",
    "print(arr.ndim)"
   ]
  },
  {
   "cell_type": "code",
   "execution_count": 54,
   "id": "8252da8b-3058-4c2a-a9e4-c60bea44a041",
   "metadata": {},
   "outputs": [
    {
     "name": "stdout",
     "output_type": "stream",
     "text": [
      "[[0.39251175 0.65427798 0.31405494 0.27904705]\n",
      " [0.30126194 0.36846688 0.55129329 0.5195408 ]\n",
      " [0.83036204 0.85372494 0.92732911 0.39674256]]\n",
      "2\n",
      "(3, 4)\n",
      "12\n",
      "float64\n"
     ]
    }
   ],
   "source": [
    "# To change random.rand into 2d array\n",
    "arr = np.random.rand(3,4)\n",
    "print(arr)\n",
    "print(arr.ndim)\n",
    "print(arr.shape)\n",
    "print(arr.size)\n",
    "print(arr.dtype)"
   ]
  },
  {
   "cell_type": "code",
   "execution_count": 56,
   "id": "5efda41c-9e72-4e1b-8d60-dd8e9e9f237f",
   "metadata": {},
   "outputs": [
    {
     "data": {
      "text/plain": [
       "array([-0.86027709,  0.55480476,  0.84653054, -1.28780377,  0.28466022,\n",
       "       -2.26581692, -0.79193115,  0.20789738])"
      ]
     },
     "execution_count": 56,
     "metadata": {},
     "output_type": "execute_result"
    }
   ],
   "source": [
    "# random.randn only take 1 value\n",
    "# This function gives the nearest to the zero value means the number can be -ve or can be +ve but the\n",
    "# numbers will be nearest to the zero\n",
    "\n",
    "arr = np.random.randn(8)\n",
    "arr"
   ]
  },
  {
   "cell_type": "code",
   "execution_count": 58,
   "id": "c6983c7e-03d6-4c13-9984-e532b779dedb",
   "metadata": {},
   "outputs": [
    {
     "data": {
      "text/plain": [
       "array([1.        , 2.33333333, 3.66666667, 5.        ])"
      ]
     },
     "execution_count": 58,
     "metadata": {},
     "output_type": "execute_result"
    }
   ],
   "source": [
    "#linspace take 3 parameters\n",
    "# linspace(start,end,how many elements we want)\n",
    "\n",
    "lspace = np.linspace(1,5,4)\n",
    "lspace\n",
    "\n",
    "# These functions separate these four elements in such a way that the ring that the difference between the 2 elements will be always same\n",
    "# means the difference between this 2.3 and 1 is same as the difference from 2.3 to 3.6 is also same and the differnce from 3.6 to 5 is\n",
    "# also same, so this function separates the differences in equal way."
   ]
  },
  {
   "cell_type": "code",
   "execution_count": 59,
   "id": "a5e94ff8-6004-4364-95bf-854e52043412",
   "metadata": {},
   "outputs": [
    {
     "data": {
      "text/plain": [
       "array([ 1.,  2.,  3.,  4.,  5.,  6.,  7.,  8.,  9., 10.])"
      ]
     },
     "execution_count": 59,
     "metadata": {},
     "output_type": "execute_result"
    }
   ],
   "source": [
    "lspace = np.linspace(1,10,10)\n",
    "lspace"
   ]
  },
  {
   "cell_type": "code",
   "execution_count": null,
   "id": "d67e5b42-ac5c-4bd1-88bd-2c2f8c912543",
   "metadata": {},
   "outputs": [],
   "source": []
  },
  {
   "cell_type": "markdown",
   "id": "2bf0ff57-9b67-4d63-87fb-15888d6b59ef",
   "metadata": {},
   "source": [
    "# RESHAPE"
   ]
  },
  {
   "cell_type": "code",
   "execution_count": 65,
   "id": "27718519-2f16-48b5-8bdd-1ce7306ed227",
   "metadata": {},
   "outputs": [
    {
     "name": "stdout",
     "output_type": "stream",
     "text": [
      "[44 37 44 13 30  1 38 14 22 39 40 41]\n",
      "1\n",
      "12\n",
      "[[44 37 44 13 30  1]\n",
      " [38 14 22 39 40 41]]\n",
      "2\n",
      "[44 37 44 13 30  1 38 14 22 39 40 41]\n",
      "1\n"
     ]
    }
   ],
   "source": [
    "# random.randint(start,end,total elemet)\n",
    "\n",
    "arr = np.random.randint(1,50,12)\n",
    "print(arr)\n",
    "print(arr.ndim)\n",
    "print(arr.size)\n",
    "\n",
    "# changing 1d array to 2d array\n",
    "arr1 = arr.reshape(2,6) # 2 rows and 6 column\n",
    "print(arr1)\n",
    "print(arr1.ndim)\n",
    "\n",
    "# changing 2d array in 1d array\n",
    "arr2 = arr1.reshape(12)\n",
    "print(arr2)\n",
    "print(arr2.ndim)\n",
    "\n",
    "# reshape array -> we can convert array in such a way that the multiplication of the given rows and columns means here if it is 6 then\n",
    "# the multiplication of 2 & 6 will 12 so this 12 should match with this number of element present in 1D array.\n",
    "\n",
    "#  we can only give this two values here the value of rows and columns. so, that the multiplication of this two values should be equal to\n",
    "# the number of elements present in our 1D array."
   ]
  },
  {
   "cell_type": "code",
   "execution_count": 69,
   "id": "a56c5de3-1c1d-46d0-aadc-2d185a01bc57",
   "metadata": {},
   "outputs": [
    {
     "name": "stdout",
     "output_type": "stream",
     "text": [
      "[[41 47 47 11 27]\n",
      " [36 18  1 11 13]]\n",
      "\n",
      "\n",
      "[[41 47]\n",
      " [47 11]\n",
      " [27 36]\n",
      " [18  1]\n",
      " [11 13]]\n"
     ]
    }
   ],
   "source": [
    "arr = np.random.randint(1,50,10)\n",
    "arr1 = arr.reshape(2,-1)\n",
    "print(arr1)\n",
    "print('\\n')\n",
    "arr2 = arr.reshape(-1,2)\n",
    "print(arr2)\n",
    "# array reshape function can take column or the row by itself."
   ]
  },
  {
   "cell_type": "markdown",
   "id": "668ae62e-8d9c-40e3-b0d2-e158c730c865",
   "metadata": {},
   "source": [
    "Seed Function:-> seed function is that whenever we want to print the rand arrays of random integers.so, what happens\n",
    "each time when we execute the code it genrate different codes\n",
    "\n",
    "Seed:-> suppose if we want to generate codes randomly but fixed numbers of elements, so that the elements should be fixed\n",
    "so that if i run my program in one pc so the numbers which are occuring randomly should be same if i'll run the same code in another PC also.\n",
    "\n",
    "arr = np.random.randint(1,50,10) => basically this function does that it saves your elements on this number on the number we are given here in this function"
   ]
  },
  {
   "cell_type": "code",
   "execution_count": 73,
   "id": "40dafe61-5ecf-4321-9115-38691623ae08",
   "metadata": {},
   "outputs": [
    {
     "data": {
      "text/plain": [
       "array([12, 28,  7,  3,  4,  4, 13, 49, 23,  6])"
      ]
     },
     "execution_count": 73,
     "metadata": {},
     "output_type": "execute_result"
    }
   ],
   "source": [
    "np.random.seed(12)\n",
    "arr = np.random.randint(1,50,10)\n",
    "arr"
   ]
  },
  {
   "cell_type": "markdown",
   "id": "47764210-dfd0-4dd9-89b2-0ecf16e70a88",
   "metadata": {},
   "source": [
    "# Create 1D Array From Taking Input From The User"
   ]
  },
  {
   "cell_type": "code",
   "execution_count": 75,
   "id": "b203b9dc-645d-4684-84c9-a3438c165b97",
   "metadata": {},
   "outputs": [
    {
     "name": "stdin",
     "output_type": "stream",
     "text": [
      "Enter the Size :  6\n",
      "Enter a number :  7\n",
      "Enter a number :  3\n",
      "Enter a number :  4\n",
      "Enter a number :  5\n",
      "Enter a number :  6\n",
      "Enter a number :  7\n"
     ]
    },
    {
     "data": {
      "text/plain": [
       "array([7, 3, 4, 5, 6, 7])"
      ]
     },
     "execution_count": 75,
     "metadata": {},
     "output_type": "execute_result"
    }
   ],
   "source": [
    "a = []   # creating a empty variable\n",
    "size = int(input(\"Enter the Size : \")) # Take the total size of the elements\n",
    "for i in range(size):       # we say for i in range size do what\n",
    "    val = int(input(\"Enter a number : \")) # Take the imput of the values it will also taken in integer format\n",
    "    a.append(val)                         # Append these values into our list that is a.\n",
    "\n",
    "arr = np.array(a)  # converting list into array\n",
    "arr\n",
    "    "
   ]
  },
  {
   "cell_type": "markdown",
   "id": "0aa76c7c-617a-436f-9043-075101b363f5",
   "metadata": {},
   "source": [
    "# 2D Array By Taking User Input"
   ]
  },
  {
   "cell_type": "code",
   "execution_count": 79,
   "id": "7b301fde-1ca0-4b08-95a1-18455349290f",
   "metadata": {},
   "outputs": [
    {
     "name": "stdin",
     "output_type": "stream",
     "text": [
      "Enter the number of rows :  1\n",
      "Enter the number of cols :  2\n",
      "Enter a number :  1\n",
      "Enter a number :  2\n"
     ]
    },
    {
     "data": {
      "text/plain": [
       "array([[1, 2]])"
      ]
     },
     "execution_count": 79,
     "metadata": {},
     "output_type": "execute_result"
    }
   ],
   "source": [
    "matrix = [] #list with name matrix called 2d array\n",
    "row = int(input(\"Enter the number of rows : \"))\n",
    "col = int(input(\"Enter the number of cols : \"))\n",
    "for i in range(row):\n",
    "    a = []\n",
    "    for i in range(col):\n",
    "        val = int(input(\"Enter a number : \"))\n",
    "        a.append(val)\n",
    "    matrix.append(a)\n",
    "arr = np.array(matrix)\n",
    "arr"
   ]
  },
  {
   "cell_type": "code",
   "execution_count": null,
   "id": "287a836a-286c-48f1-8704-f38825b1a71c",
   "metadata": {},
   "outputs": [],
   "source": []
  },
  {
   "cell_type": "markdown",
   "id": "e616d686-c314-498e-9b5d-dcc5e8adccd9",
   "metadata": {},
   "source": [
    "# Slicing, View & Copy, Conditional Selection, Operations On Numpy Arrays"
   ]
  },
  {
   "cell_type": "markdown",
   "id": "e52559f6-a722-4272-b703-255331598e1d",
   "metadata": {},
   "source": [
    "# Slicing"
   ]
  },
  {
   "cell_type": "code",
   "execution_count": 80,
   "id": "4f473f3b-9d3e-4c35-be58-1aacc5272349",
   "metadata": {},
   "outputs": [
    {
     "data": {
      "text/plain": [
       "array([[341, 365, 469, 213,  87],\n",
       "       [276, 170, 323, 119, 467],\n",
       "       [297, 456, 442,   8, 269],\n",
       "       [267, 450, 369, 217, 285],\n",
       "       [271, 419,  22,  55, 201],\n",
       "       [ 38, 461, 231, 187, 269]])"
      ]
     },
     "execution_count": 80,
     "metadata": {},
     "output_type": "execute_result"
    }
   ],
   "source": [
    "np.random.seed(111)\n",
    "arr = np.random.randint(1,500,30).reshape(6,5)\n",
    "arr"
   ]
  },
  {
   "cell_type": "code",
   "execution_count": 81,
   "id": "0970a325-592c-4e51-9b2c-03c31bb774fb",
   "metadata": {},
   "outputs": [
    {
     "data": {
      "text/plain": [
       "array([[341, 365, 469, 213,  87],\n",
       "       [276, 170, 323, 119, 467],\n",
       "       [297, 456, 442,   8, 269],\n",
       "       [267, 450, 369, 217, 285]])"
      ]
     },
     "execution_count": 81,
     "metadata": {},
     "output_type": "execute_result"
    }
   ],
   "source": [
    "#  arr(oth->index:nth index[row], [column] oth index:nth index)\n",
    "arr[:4,:]"
   ]
  },
  {
   "cell_type": "code",
   "execution_count": 82,
   "id": "7ba19783-21d6-4743-abc0-0d58399daeaf",
   "metadata": {},
   "outputs": [
    {
     "data": {
      "text/plain": [
       "array([[456, 442,   8],\n",
       "       [450, 369, 217]])"
      ]
     },
     "execution_count": 82,
     "metadata": {},
     "output_type": "execute_result"
    }
   ],
   "source": [
    "arr[2:4,1:4]"
   ]
  },
  {
   "cell_type": "markdown",
   "id": "0e0ada02-0294-42d6-8e53-9dbe5c3a7ec6",
   "metadata": {},
   "source": [
    "<h2>View and Copy</h2>"
   ]
  },
  {
   "cell_type": "code",
   "execution_count": 83,
   "id": "3819f332-497d-4a2f-9591-1594679fe383",
   "metadata": {},
   "outputs": [
    {
     "name": "stdout",
     "output_type": "stream",
     "text": [
      "[ 1  2  3  4  5  6  7  8  9 10 11 12 13 14 15]\n",
      "[ 1  2  3  4  5  6  7  8  9 10 11 12 13 14 15]\n"
     ]
    }
   ],
   "source": [
    "a = np.arange(1,16)\n",
    "view = a[:].view()\n",
    "print(view)\n",
    "print(a)"
   ]
  },
  {
   "cell_type": "code",
   "execution_count": 87,
   "id": "30acf342-775e-4d30-9eed-4d4ccc8a5241",
   "metadata": {},
   "outputs": [
    {
     "name": "stdout",
     "output_type": "stream",
     "text": [
      "[ 1  2  3  0  0  0  7  8  9 10 11 12 13 14 15]\n",
      "[ 1  2  3  0  0  0  7  8  9 10 11 12 13 14 15]\n"
     ]
    }
   ],
   "source": [
    "a = np.arange(1,16)\n",
    "view = a[:].view()\n",
    "view[3:6] = 0  # Here,this will do change 3rd element to 5th element turn to zero\n",
    "print(view)\n",
    "print(a)\n",
    "\n",
    "# This changes we make to view array are also reflect/performed to main array"
   ]
  },
  {
   "cell_type": "code",
   "execution_count": 88,
   "id": "4e9812ca-61d0-4304-b92c-c4703281f257",
   "metadata": {},
   "outputs": [
    {
     "name": "stdout",
     "output_type": "stream",
     "text": [
      "[ 1  2  3  0  0  0  7  8  9 10 11 12 13 14 15]\n",
      "[ 1  2  3  4  5  6  7  8  9 10 11 12 13 14 15]\n"
     ]
    }
   ],
   "source": [
    "a = np.arange(1,16)\n",
    "copy = a[:].copy()\n",
    "copy[3:6] = 0\n",
    "print(copy)\n",
    "print(a)\n",
    "\n",
    "# The changes we make to copy array are not performed to main array"
   ]
  },
  {
   "cell_type": "markdown",
   "id": "caa2248c-67c8-4a26-885b-66c2e9944c90",
   "metadata": {},
   "source": [
    "# Conditional Selection"
   ]
  },
  {
   "cell_type": "code",
   "execution_count": 89,
   "id": "c5a440f2-8b70-4cfd-99e5-fe5613e3b62e",
   "metadata": {},
   "outputs": [
    {
     "data": {
      "text/plain": [
       "array([ 1,  2,  3,  4,  5,  6,  7,  8,  9, 10, 11, 12, 13, 14, 15])"
      ]
     },
     "execution_count": 89,
     "metadata": {},
     "output_type": "execute_result"
    }
   ],
   "source": [
    "a = np.arange(1,16)\n",
    "a"
   ]
  },
  {
   "cell_type": "code",
   "execution_count": 90,
   "id": "46e69e2d-9f9a-4e28-a2fe-fac9859260ca",
   "metadata": {},
   "outputs": [],
   "source": [
    "# Conditional Selection -> like we can select the elements of our present in our array by giving condition to them."
   ]
  },
  {
   "cell_type": "code",
   "execution_count": 94,
   "id": "3eb34f87-18ad-45a4-9ff0-8239739d9cf4",
   "metadata": {},
   "outputs": [
    {
     "data": {
      "text/plain": [
       "array([False, False, False, False, False, False, False, False, False,\n",
       "       False,  True,  True,  True,  True,  True])"
      ]
     },
     "execution_count": 94,
     "metadata": {},
     "output_type": "execute_result"
    }
   ],
   "source": [
    "a > 10  \n",
    "\n",
    "#It is giving false for all the values that are less then 10 and true for greater then 10 this is conditional slection."
   ]
  },
  {
   "cell_type": "code",
   "execution_count": 97,
   "id": "61cef9cc-aa05-4754-9b25-d29bae57793d",
   "metadata": {},
   "outputs": [
    {
     "data": {
      "text/plain": [
       "array([11, 12, 13, 14, 15])"
      ]
     },
     "execution_count": 97,
     "metadata": {},
     "output_type": "execute_result"
    }
   ],
   "source": [
    "a[a > 10]\n",
    "\n",
    "# first we print array then in square bracket we put condition and run the code it will give only condition desired result.\n"
   ]
  },
  {
   "cell_type": "code",
   "execution_count": 99,
   "id": "f36d4956-9147-466f-b9ca-f562ec8a22d8",
   "metadata": {},
   "outputs": [
    {
     "name": "stdout",
     "output_type": "stream",
     "text": [
      "[ 1  2  3  4  5  6  7  8  9 10 11 12 13 14 15]\n"
     ]
    },
    {
     "data": {
      "text/plain": [
       "array([ 2,  4,  6,  8, 10, 12, 14])"
      ]
     },
     "execution_count": 99,
     "metadata": {},
     "output_type": "execute_result"
    }
   ],
   "source": [
    "a = np.arange(1,16)\n",
    "print(a)\n",
    "a[a%2==0] # For Even Number"
   ]
  },
  {
   "cell_type": "code",
   "execution_count": 101,
   "id": "f7771454-a6fb-4556-8232-dc3c79f84d6d",
   "metadata": {},
   "outputs": [
    {
     "data": {
      "text/plain": [
       "array([ 1,  3,  5,  7,  9, 11, 13, 15])"
      ]
     },
     "execution_count": 101,
     "metadata": {},
     "output_type": "execute_result"
    }
   ],
   "source": [
    "a[a%2!=0] # For Odd Number"
   ]
  },
  {
   "cell_type": "markdown",
   "id": "03aa4597-9168-428c-b5da-368a917d5706",
   "metadata": {},
   "source": [
    "# Mathematical Operations "
   ]
  },
  {
   "cell_type": "code",
   "execution_count": 102,
   "id": "ffc07c8a-869d-4538-9b9f-1b497f4382c4",
   "metadata": {},
   "outputs": [
    {
     "data": {
      "text/plain": [
       "array([1, 2, 3, 4])"
      ]
     },
     "execution_count": 102,
     "metadata": {},
     "output_type": "execute_result"
    }
   ],
   "source": [
    "arr = np.arange(1,5)\n",
    "arr"
   ]
  },
  {
   "cell_type": "code",
   "execution_count": 104,
   "id": "89f1a45c-272d-4a77-bc87-1905c2c20aad",
   "metadata": {},
   "outputs": [
    {
     "data": {
      "text/plain": [
       "array([3, 4, 5, 6])"
      ]
     },
     "execution_count": 104,
     "metadata": {},
     "output_type": "execute_result"
    }
   ],
   "source": [
    "arr+2 # 2 add to every elemet"
   ]
  },
  {
   "cell_type": "code",
   "execution_count": 105,
   "id": "2dff54d9-3f6c-4aff-89d0-a5879aa51913",
   "metadata": {},
   "outputs": [
    {
     "data": {
      "text/plain": [
       "array([ 7, 14, 21, 28])"
      ]
     },
     "execution_count": 105,
     "metadata": {},
     "output_type": "execute_result"
    }
   ],
   "source": [
    "arr*7"
   ]
  },
  {
   "cell_type": "code",
   "execution_count": 107,
   "id": "fbc5099e-8ed2-47d1-8878-3e5357766219",
   "metadata": {},
   "outputs": [
    {
     "data": {
      "text/plain": [
       "array([ 1,  8, 27, 64])"
      ]
     },
     "execution_count": 107,
     "metadata": {},
     "output_type": "execute_result"
    }
   ],
   "source": [
    "arr**3  # Cube of every element"
   ]
  },
  {
   "cell_type": "code",
   "execution_count": 112,
   "id": "1cb7fff2-a5e8-4aad-83ce-1bee445e1ee2",
   "metadata": {},
   "outputs": [
    {
     "name": "stdout",
     "output_type": "stream",
     "text": [
      "[1 2 3 4 5 6 7]\n",
      "[3 4 5 6 7 8 9]\n"
     ]
    }
   ],
   "source": [
    "arr1 = np.arange(1,8)\n",
    "arr2 = np.arange(3,10)\n",
    "print(arr1)\n",
    "print(arr2)"
   ]
  },
  {
   "cell_type": "code",
   "execution_count": 113,
   "id": "7fa32833-4c12-4123-b346-2e7d47430f9e",
   "metadata": {},
   "outputs": [
    {
     "data": {
      "text/plain": [
       "array([ 4,  6,  8, 10, 12, 14, 16])"
      ]
     },
     "execution_count": 113,
     "metadata": {},
     "output_type": "execute_result"
    }
   ],
   "source": [
    "arr1 + arr2"
   ]
  },
  {
   "cell_type": "code",
   "execution_count": 114,
   "id": "276e041a-b9a4-4c74-bb88-1800c86eb003",
   "metadata": {},
   "outputs": [
    {
     "name": "stdout",
     "output_type": "stream",
     "text": [
      "[[1 2]\n",
      " [3 4]]\n",
      "[[5 6]\n",
      " [7 8]]\n"
     ]
    }
   ],
   "source": [
    "arr1 = np.arange(1, 5).reshape(2,2)\n",
    "arr2 = np.arange(5,9).reshape(2,2)\n",
    "print(arr1)\n",
    "print(arr2)"
   ]
  },
  {
   "cell_type": "code",
   "execution_count": 115,
   "id": "b3d1bdd4-c631-4e1d-b4f0-8685a3cccf74",
   "metadata": {},
   "outputs": [
    {
     "data": {
      "text/plain": [
       "array([[ 6,  8],\n",
       "       [10, 12]])"
      ]
     },
     "execution_count": 115,
     "metadata": {},
     "output_type": "execute_result"
    }
   ],
   "source": [
    "arr1 + arr2"
   ]
  },
  {
   "cell_type": "code",
   "execution_count": 116,
   "id": "3bf219f6-0773-48e4-aad4-0cc040d157e6",
   "metadata": {},
   "outputs": [
    {
     "data": {
      "text/plain": [
       "array([[-4, -4],\n",
       "       [-4, -4]])"
      ]
     },
     "execution_count": 116,
     "metadata": {},
     "output_type": "execute_result"
    }
   ],
   "source": [
    "arr1 - arr2"
   ]
  },
  {
   "cell_type": "code",
   "execution_count": 117,
   "id": "c7290056-ab30-40e1-a9d3-6cae8cd910be",
   "metadata": {},
   "outputs": [
    {
     "data": {
      "text/plain": [
       "array([[0.2       , 0.33333333],\n",
       "       [0.42857143, 0.5       ]])"
      ]
     },
     "execution_count": 117,
     "metadata": {},
     "output_type": "execute_result"
    }
   ],
   "source": [
    "arr1 / arr2"
   ]
  },
  {
   "cell_type": "code",
   "execution_count": 118,
   "id": "6c672684-de34-4dfa-bdd3-a1ebdf909dbc",
   "metadata": {},
   "outputs": [
    {
     "data": {
      "text/plain": [
       "array([[ 5, 12],\n",
       "       [21, 32]])"
      ]
     },
     "execution_count": 118,
     "metadata": {},
     "output_type": "execute_result"
    }
   ],
   "source": [
    "arr1 * arr2"
   ]
  },
  {
   "cell_type": "code",
   "execution_count": 119,
   "id": "d2c0f512-0376-4ce2-8b6a-142d0deaecbe",
   "metadata": {},
   "outputs": [
    {
     "data": {
      "text/plain": [
       "array([[19, 22],\n",
       "       [43, 50]])"
      ]
     },
     "execution_count": 119,
     "metadata": {},
     "output_type": "execute_result"
    }
   ],
   "source": [
    "# To Perform original multiplication matrix's\n",
    "\n",
    "arr1.dot(arr2)"
   ]
  },
  {
   "cell_type": "code",
   "execution_count": null,
   "id": "0d55b6f6-c597-47ed-8773-9f9e0b495571",
   "metadata": {},
   "outputs": [],
   "source": []
  },
  {
   "cell_type": "markdown",
   "id": "2a0ea46b-7c8a-4f53-9a03-4fca8a28ef9a",
   "metadata": {},
   "source": [
    "# More Functions And Stacking On Numpy Arrays"
   ]
  },
  {
   "cell_type": "markdown",
   "id": "fc2e0862-0aa4-4b50-8ad7-af2f1f67a075",
   "metadata": {},
   "source": [
    "# Function Of Numpy Arrays"
   ]
  },
  {
   "cell_type": "code",
   "execution_count": 121,
   "id": "86e9247e-a7a3-4d38-a520-a86b61cb28e8",
   "metadata": {},
   "outputs": [
    {
     "data": {
      "text/plain": [
       "np.int64(3)"
      ]
     },
     "execution_count": 121,
     "metadata": {},
     "output_type": "execute_result"
    }
   ],
   "source": [
    "arr = np.array([12,3,4,61,9,10])\n",
    "np.min(arr)"
   ]
  },
  {
   "cell_type": "code",
   "execution_count": 123,
   "id": "a4aa671f-446b-40c4-a185-5662669ae211",
   "metadata": {},
   "outputs": [
    {
     "data": {
      "text/plain": [
       "np.int64(61)"
      ]
     },
     "execution_count": 123,
     "metadata": {},
     "output_type": "execute_result"
    }
   ],
   "source": [
    "np.max(arr) # maximum value in array"
   ]
  },
  {
   "cell_type": "code",
   "execution_count": 124,
   "id": "09731d36-dbdd-4637-8a50-177d631b9986",
   "metadata": {},
   "outputs": [
    {
     "data": {
      "text/plain": [
       "np.int64(1)"
      ]
     },
     "execution_count": 124,
     "metadata": {},
     "output_type": "execute_result"
    }
   ],
   "source": [
    "# Now, we can find the index at which the minimum element or maximum element has been present using the argmin\n",
    "\n",
    "np.argmin(arr)"
   ]
  },
  {
   "cell_type": "code",
   "execution_count": 125,
   "id": "6bb5294c-2a49-422e-8967-393589285c9d",
   "metadata": {},
   "outputs": [
    {
     "data": {
      "text/plain": [
       "np.int64(3)"
      ]
     },
     "execution_count": 125,
     "metadata": {},
     "output_type": "execute_result"
    }
   ],
   "source": [
    "np.argmax(arr)"
   ]
  },
  {
   "cell_type": "code",
   "execution_count": 126,
   "id": "30b85fdd-ee19-4b96-9c78-670ce2032954",
   "metadata": {},
   "outputs": [
    {
     "data": {
      "text/plain": [
       "array([3.46410162, 1.73205081, 2.        , 7.81024968, 3.        ,\n",
       "       3.16227766])"
      ]
     },
     "execution_count": 126,
     "metadata": {},
     "output_type": "execute_result"
    }
   ],
   "source": [
    "np.sqrt(arr)"
   ]
  },
  {
   "cell_type": "code",
   "execution_count": 127,
   "id": "03d7ffc3-4c05-40ba-bfeb-002f7f2797e7",
   "metadata": {},
   "outputs": [
    {
     "data": {
      "text/plain": [
       "array([-0.53657292,  0.14112001, -0.7568025 , -0.96611777,  0.41211849,\n",
       "       -0.54402111])"
      ]
     },
     "execution_count": 127,
     "metadata": {},
     "output_type": "execute_result"
    }
   ],
   "source": [
    "np.sin(arr) #sin value "
   ]
  },
  {
   "cell_type": "code",
   "execution_count": 128,
   "id": "c6388ceb-15f8-4061-9f87-871fb4af59cc",
   "metadata": {},
   "outputs": [
    {
     "data": {
      "text/plain": [
       "array([ 0.84385396, -0.9899925 , -0.65364362, -0.25810164, -0.91113026,\n",
       "       -0.83907153])"
      ]
     },
     "execution_count": 128,
     "metadata": {},
     "output_type": "execute_result"
    }
   ],
   "source": [
    "np.cos(arr) #cos value"
   ]
  },
  {
   "cell_type": "code",
   "execution_count": 129,
   "id": "d25588ef-dbb7-4a4e-b648-9a6afee4f3d4",
   "metadata": {},
   "outputs": [
    {
     "data": {
      "text/plain": [
       "array([[13, 20, 10],\n",
       "       [ 3, 19,  9],\n",
       "       [ 8,  8, 13]])"
      ]
     },
     "execution_count": 129,
     "metadata": {},
     "output_type": "execute_result"
    }
   ],
   "source": [
    "np.random.seed(111) # we use random.seed function so number cannot change each time.\n",
    "matrix = np.random.randint(1,21,9).reshape(3,3)\n",
    "matrix"
   ]
  },
  {
   "cell_type": "code",
   "execution_count": 130,
   "id": "8edcaf5a-59de-4b2c-be0c-12fa00408946",
   "metadata": {},
   "outputs": [
    {
     "data": {
      "text/plain": [
       "np.int64(103)"
      ]
     },
     "execution_count": 130,
     "metadata": {},
     "output_type": "execute_result"
    }
   ],
   "source": [
    "np.sum(matrix)"
   ]
  },
  {
   "cell_type": "code",
   "execution_count": 131,
   "id": "22072810-d916-4d8b-b80e-dc8d42e8f739",
   "metadata": {},
   "outputs": [
    {
     "data": {
      "text/plain": [
       "np.int64(3)"
      ]
     },
     "execution_count": 131,
     "metadata": {},
     "output_type": "execute_result"
    }
   ],
   "source": [
    "np.min(matrix)"
   ]
  },
  {
   "cell_type": "code",
   "execution_count": 132,
   "id": "d17fc332-25b6-4f6f-bd72-25d37bcdc4da",
   "metadata": {},
   "outputs": [
    {
     "data": {
      "text/plain": [
       "np.int64(20)"
      ]
     },
     "execution_count": 132,
     "metadata": {},
     "output_type": "execute_result"
    }
   ],
   "source": [
    "np.max(matrix)"
   ]
  },
  {
   "cell_type": "code",
   "execution_count": 133,
   "id": "b59962de-4c3a-4808-b3c8-b14d88947399",
   "metadata": {},
   "outputs": [],
   "source": [
    "# We can check min & max value according to axes\n",
    "# these row[13,20,10] this is inner row & this row in present in axis one. so, the horizontal line always belongs to axes one\n",
    "# and[13]\n",
    "#    [3]\n",
    "#    [8] this is a column & this is the first column of my matrix or our array. so, this column is a vertical line\n",
    "# so, the vertical line always belong to axes zeo(0)."
   ]
  },
  {
   "cell_type": "code",
   "execution_count": 135,
   "id": "f5c23afa-c90c-41fe-a003-07a3b6503f3a",
   "metadata": {},
   "outputs": [
    {
     "data": {
      "text/plain": [
       "array([10,  3,  8])"
      ]
     },
     "execution_count": 135,
     "metadata": {},
     "output_type": "execute_result"
    }
   ],
   "source": [
    "np.min(matrix,axis = 1)  # axis=1 for row\n",
    "# it will check all the columns and then write minimum value from them\n",
    "# row1 - has 10 as minimum value\n",
    "# row2 - has 3 as minimum value\n",
    "# row3 - has 8 as minimum value"
   ]
  },
  {
   "cell_type": "code",
   "execution_count": 136,
   "id": "27a6ff89-406f-4266-9771-7cd2b83396a8",
   "metadata": {},
   "outputs": [
    {
     "data": {
      "text/plain": [
       "array([3, 8, 9])"
      ]
     },
     "execution_count": 136,
     "metadata": {},
     "output_type": "execute_result"
    }
   ],
   "source": [
    "np.min(matrix, axis = 0) # axis=0 for column"
   ]
  },
  {
   "cell_type": "code",
   "execution_count": 137,
   "id": "3b84f1ed-27bc-4e57-850f-0d3f9fe23fe8",
   "metadata": {},
   "outputs": [
    {
     "data": {
      "text/plain": [
       "array([20, 19, 13])"
      ]
     },
     "execution_count": 137,
     "metadata": {},
     "output_type": "execute_result"
    }
   ],
   "source": [
    "np.max(matrix, axis=1)"
   ]
  },
  {
   "cell_type": "code",
   "execution_count": 138,
   "id": "b3b4a40e-1b56-429e-b6a9-ae848c9791c3",
   "metadata": {},
   "outputs": [
    {
     "data": {
      "text/plain": [
       "array([13, 20, 13])"
      ]
     },
     "execution_count": 138,
     "metadata": {},
     "output_type": "execute_result"
    }
   ],
   "source": [
    "np.max(matrix, axis=0)"
   ]
  },
  {
   "cell_type": "code",
   "execution_count": 139,
   "id": "dbd73ce5-0e6f-40a7-b223-b2bc1a0364d1",
   "metadata": {},
   "outputs": [
    {
     "data": {
      "text/plain": [
       "array([43, 31, 29])"
      ]
     },
     "execution_count": 139,
     "metadata": {},
     "output_type": "execute_result"
    }
   ],
   "source": [
    "np.sum(matrix, axis=1)"
   ]
  },
  {
   "cell_type": "code",
   "execution_count": 140,
   "id": "d1ded6d8-7704-493c-8a93-24b547991db7",
   "metadata": {},
   "outputs": [
    {
     "data": {
      "text/plain": [
       "array([24, 47, 32])"
      ]
     },
     "execution_count": 140,
     "metadata": {},
     "output_type": "execute_result"
    }
   ],
   "source": [
    "np.sum(matrix, axis=0)"
   ]
  },
  {
   "cell_type": "code",
   "execution_count": 141,
   "id": "c83d5802-0d3e-458f-b6c6-27a640575db0",
   "metadata": {},
   "outputs": [
    {
     "data": {
      "text/plain": [
       "array([ 13,  33,  43,  46,  65,  74,  82,  90, 103])"
      ]
     },
     "execution_count": 141,
     "metadata": {},
     "output_type": "execute_result"
    }
   ],
   "source": [
    "# Cummulative sum\n",
    "\n",
    "np.cumsum(matrix)"
   ]
  },
  {
   "cell_type": "code",
   "execution_count": 142,
   "id": "a9466ea7-37f8-4a9f-8bc4-fdf33cb4a281",
   "metadata": {},
   "outputs": [
    {
     "data": {
      "text/plain": [
       "array([[13, 33, 43],\n",
       "       [ 3, 22, 31],\n",
       "       [ 8, 16, 29]])"
      ]
     },
     "execution_count": 142,
     "metadata": {},
     "output_type": "execute_result"
    }
   ],
   "source": [
    "np.cumsum(matrix,axis=1)"
   ]
  },
  {
   "cell_type": "code",
   "execution_count": 143,
   "id": "8e82f169-3ee6-44e0-9beb-17ffea830153",
   "metadata": {},
   "outputs": [
    {
     "data": {
      "text/plain": [
       "array([[13, 20, 10],\n",
       "       [16, 39, 19],\n",
       "       [24, 47, 32]])"
      ]
     },
     "execution_count": 143,
     "metadata": {},
     "output_type": "execute_result"
    }
   ],
   "source": [
    "np.cumsum(matrix, axis = 0)"
   ]
  },
  {
   "cell_type": "markdown",
   "id": "eb9b4f32-7795-4755-b2f6-580cdf23a500",
   "metadata": {},
   "source": [
    "<h3> Shuffle and Unique</h3>"
   ]
  },
  {
   "cell_type": "code",
   "execution_count": 144,
   "id": "0b0c6792-9239-428a-b18f-16529fecf579",
   "metadata": {},
   "outputs": [
    {
     "data": {
      "text/plain": [
       "array([11,  2, 17, 15,  3,  9,  6, 13,  7, 13])"
      ]
     },
     "execution_count": 144,
     "metadata": {},
     "output_type": "execute_result"
    }
   ],
   "source": [
    "arr = np.random.randint(1,21,10)\n",
    "arr"
   ]
  },
  {
   "cell_type": "code",
   "execution_count": 145,
   "id": "6f778876-2b69-48da-bfe7-f3a3ad7f4568",
   "metadata": {},
   "outputs": [
    {
     "data": {
      "text/plain": [
       "array([ 3,  2, 11, 13, 15, 17, 13,  6,  7,  9])"
      ]
     },
     "execution_count": 145,
     "metadata": {},
     "output_type": "execute_result"
    }
   ],
   "source": [
    "np.random.shuffle(arr)\n",
    "arr"
   ]
  },
  {
   "cell_type": "code",
   "execution_count": 146,
   "id": "5abfccf9-1644-4413-b14f-41e64045f336",
   "metadata": {},
   "outputs": [
    {
     "data": {
      "text/plain": [
       "array([10, 20, 30, 40, 10, 20, 30, 50])"
      ]
     },
     "execution_count": 146,
     "metadata": {},
     "output_type": "execute_result"
    }
   ],
   "source": [
    "arr1 = np.array([10,20,30,40,10,20,30,50])\n",
    "arr1"
   ]
  },
  {
   "cell_type": "code",
   "execution_count": 147,
   "id": "63830099-b0a3-4789-8576-9b2c7c732803",
   "metadata": {},
   "outputs": [
    {
     "data": {
      "text/plain": [
       "array([10, 20, 30, 40, 50])"
      ]
     },
     "execution_count": 147,
     "metadata": {},
     "output_type": "execute_result"
    }
   ],
   "source": [
    "np.unique(arr1)"
   ]
  },
  {
   "cell_type": "code",
   "execution_count": 148,
   "id": "c3882a77-bf94-44cc-807a-d1fb91e592aa",
   "metadata": {},
   "outputs": [
    {
     "data": {
      "text/plain": [
       "5"
      ]
     },
     "execution_count": 148,
     "metadata": {},
     "output_type": "execute_result"
    }
   ],
   "source": [
    "np.unique(arr1).size"
   ]
  },
  {
   "cell_type": "code",
   "execution_count": 150,
   "id": "988f199c-eb19-48a8-a9b1-5f22f6e1c08f",
   "metadata": {},
   "outputs": [
    {
     "data": {
      "text/plain": [
       "(array([10, 20, 30, 40, 50]), array([0, 1, 2, 3, 7]))"
      ]
     },
     "execution_count": 150,
     "metadata": {},
     "output_type": "execute_result"
    }
   ],
   "source": [
    "np.unique(arr1,return_index = True)"
   ]
  },
  {
   "cell_type": "code",
   "execution_count": 151,
   "id": "8dbed438-6bbf-4c50-bf24-4143f620b4e4",
   "metadata": {},
   "outputs": [
    {
     "data": {
      "text/plain": [
       "(array([10, 20, 30, 40, 50]), array([0, 1, 2, 3, 7]), array([2, 2, 2, 1, 1]))"
      ]
     },
     "execution_count": 151,
     "metadata": {},
     "output_type": "execute_result"
    }
   ],
   "source": [
    "# np.unique(array_name,retrun index, count of elements)\n",
    "np.unique(arr1,return_index = True,return_counts=True)"
   ]
  },
  {
   "cell_type": "markdown",
   "id": "e6863de7-4ded-434a-83f7-5d27ecd28c43",
   "metadata": {},
   "source": [
    "# Stacking"
   ]
  },
  {
   "cell_type": "code",
   "execution_count": 152,
   "id": "e5ff65b9-14a6-45f8-849a-ffab344a7ab4",
   "metadata": {},
   "outputs": [
    {
     "name": "stdout",
     "output_type": "stream",
     "text": [
      "[1 2 3 4]\n",
      "[5 6 7 8]\n"
     ]
    }
   ],
   "source": [
    "a = np.array([1,2,3,4])\n",
    "b = np.array([5,6,7,8])\n",
    "print(a)\n",
    "print(b)"
   ]
  },
  {
   "cell_type": "code",
   "execution_count": 153,
   "id": "74035489-7136-4f04-9878-22a0be2444a9",
   "metadata": {},
   "outputs": [
    {
     "data": {
      "text/plain": [
       "array([1, 2, 3, 4, 5, 6, 7, 8])"
      ]
     },
     "execution_count": 153,
     "metadata": {},
     "output_type": "execute_result"
    }
   ],
   "source": [
    "np.hstack((a,b)) # horizontal stack"
   ]
  },
  {
   "cell_type": "code",
   "execution_count": 154,
   "id": "43e08cb1-78c4-400b-b0cc-74e5bda305af",
   "metadata": {},
   "outputs": [
    {
     "data": {
      "text/plain": [
       "array([[1, 2, 3, 4],\n",
       "       [5, 6, 7, 8]])"
      ]
     },
     "execution_count": 154,
     "metadata": {},
     "output_type": "execute_result"
    }
   ],
   "source": [
    "np.vstack((a,b)) # vertical stack"
   ]
  },
  {
   "cell_type": "code",
   "execution_count": 155,
   "id": "70946739-ed87-479c-ab83-1cb024e58214",
   "metadata": {},
   "outputs": [
    {
     "name": "stdout",
     "output_type": "stream",
     "text": [
      "[[13 20 10]\n",
      " [ 3 19  9]\n",
      " [ 8  8 13]]\n",
      "[[31 22 37]\n",
      " [35 23 29]\n",
      " [26 33 27]]\n"
     ]
    }
   ],
   "source": [
    "np.random.seed(111)\n",
    "a1 = np.random.randint(1,21,9).reshape(3,3)\n",
    "b1 = np.random.randint(21,41,9).reshape(3,3)\n",
    "print(a1)\n",
    "print(b1)"
   ]
  },
  {
   "cell_type": "code",
   "execution_count": 157,
   "id": "f19d5736-9b8b-459e-b863-045123bc1e19",
   "metadata": {},
   "outputs": [
    {
     "data": {
      "text/plain": [
       "array([[13, 20, 10, 31, 22, 37],\n",
       "       [ 3, 19,  9, 35, 23, 29],\n",
       "       [ 8,  8, 13, 26, 33, 27]])"
      ]
     },
     "execution_count": 157,
     "metadata": {},
     "output_type": "execute_result"
    }
   ],
   "source": [
    "np.hstack((a1,b1))  # horizontal stacking it's just like 1d array"
   ]
  },
  {
   "cell_type": "code",
   "execution_count": 158,
   "id": "ac908c8a-ae34-4c96-b8b3-f1481fb510ba",
   "metadata": {},
   "outputs": [
    {
     "data": {
      "text/plain": [
       "array([[13, 20, 10],\n",
       "       [ 3, 19,  9],\n",
       "       [ 8,  8, 13],\n",
       "       [31, 22, 37],\n",
       "       [35, 23, 29],\n",
       "       [26, 33, 27]])"
      ]
     },
     "execution_count": 158,
     "metadata": {},
     "output_type": "execute_result"
    }
   ],
   "source": [
    "np.vstack((a1,b1))"
   ]
  },
  {
   "cell_type": "code",
   "execution_count": null,
   "id": "55618a37-c1f9-482c-bcb5-6c4c2f203608",
   "metadata": {},
   "outputs": [],
   "source": []
  }
 ],
 "metadata": {
  "kernelspec": {
   "display_name": "Python 3 (ipykernel)",
   "language": "python",
   "name": "python3"
  },
  "language_info": {
   "codemirror_mode": {
    "name": "ipython",
    "version": 3
   },
   "file_extension": ".py",
   "mimetype": "text/x-python",
   "name": "python",
   "nbconvert_exporter": "python",
   "pygments_lexer": "ipython3",
   "version": "3.10.11"
  }
 },
 "nbformat": 4,
 "nbformat_minor": 5
}
