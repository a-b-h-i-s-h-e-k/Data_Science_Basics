{
 "cells": [
  {
   "cell_type": "markdown",
   "id": "4ac35ba5-2e8a-4741-a414-4ac016e203b4",
   "metadata": {},
   "source": [
    "Data preprocessing is a critical step in data science tasks, ensuring that raw data is transformed into a clean, organized, and structured format suitable for analysis. A data preprocessing pipeline streamlines this complex process by automating a series of steps, enabling data professionals to efficiently and consistently preprocess diverse datasets.\n",
    "\n",
    "\n",
    "Q.What is a Data Preprocessing Pipeline?\n",
    "\n",
    "Data Preprocessing involves transforming and manipulating raw data to improve its quality, consistency, and relevance for analysis. It encompasses several tasks, including handling missing values, standardizing variables, and removing outliers. By performing these preprocessing steps, data professionals ensure that subsequent analysis is based on reliable and accurate data, leading to better insights and predictions.\n",
    "\n",
    "A data preprocessing pipeline is a systematic and automated approach that combines multiple preprocessing steps into a cohesive workflow. It serves as a roadmap for data professionals, guiding them through the transformations and calculations needed to cleanse and prepare data for analysis. The pipeline consists of interconnected steps, each of which is responsible for a specific preprocessing task, such as:\n",
    "\n",
    "    1. imputing missing values\n",
    "    2. scaling numeric features\n",
    "    3. finding and removing outliers\n",
    "    4. or encoding categorical variables\n",
    "\n",
    "By following the predefined sequence of operations, the pipeline ensures consistency, reproducibility, and efficiency in overall preprocessing steps.\n",
    "\n",
    "###\n",
    "\n"
   ]
  },
  {
   "cell_type": "markdown",
   "id": "8d80ba12-a9ec-4a0b-b53c-19947d7305b9",
   "metadata": {},
   "source": [
    "Q.How a Data Preprocessing Pipeline Helps Data Professionals?\n",
    "\n",
    "A Data Preprocessing pipeline is crucial to help various data science professionals, including data engineers, data analysts, data scientists, and machine learning engineers, in their respective roles.\n",
    "\n",
    "For Data Engineers, the pipeline simplifies work by automating data transformation tasks, allowing them to focus on designing scalable data architectures and optimizing data pipelines.\n",
    "\n",
    "Data Analysts benefit from the pipeline’s ability to normalize and clean data, ensuring accuracy and reducing time spent on data cleaning tasks. It allows analysts to spend more time on exploratory data analysis and gaining meaningful insights.\n",
    "\n",
    "On the other hand, Data Scientists and Machine Learning Engineers rely on clean and well-preprocessed data for accurate predictive modelling and advanced analytics. The preprocessing pipeline automates repetitive preprocessing tasks, allowing them efficiently experiment and quickly iterate on their datasets.\n",
    "\n",
    "###\n",
    "\n"
   ]
  },
  {
   "cell_type": "markdown",
   "id": "69c2f617-1ef0-4a61-b889-2300c0c74293",
   "metadata": {},
   "source": [
    "Q.Data Preprocessing Pipeline using Python\n",
    "\n",
    "I hope you have understood what a Data Preprocessing pipeline is and how it helps data professionals. In this section, I’ll take you through how to build a Data Preprocessing pipeline using Python.\n",
    "\n",
    "A Data Preprocessing pipeline should be able to handle missing values, standardize numerical features, remove outliers, and ensure easy replication of preprocessing steps on new datasets. Now, here’s how to create a Data Preprocessing pipeline using Python based on the fundamental functions that every pipeline should perform while preprocessing any dataset"
   ]
  },
  {
   "cell_type": "code",
   "execution_count": 8,
   "id": "7d90cd47-819c-4d38-8e34-595fa8b7cbda",
   "metadata": {},
   "outputs": [],
   "source": [
    "import pandas as pd\n",
    "import numpy as np\n",
    "from sklearn.preprocessing import StandardScaler\n",
    "\n",
    "def data_preprocessing_pipeline(data):\n",
    "    #Identify numeric and categorical features\n",
    "    numeric_features = data.select_dtypes(include=['float', 'int']).columns\n",
    "    categorical_features = data.select_dtypes(include=['object']).columns\n",
    "\n",
    "    #Handle missing values in numeric features\n",
    "    data[numeric_features] = data[numeric_features].fillna(data[numeric_features].mean())\n",
    "\n",
    "    #Detect and handle outliers in numeric features using IQR\n",
    "    for feature in numeric_features:\n",
    "        Q1 = data[feature].quantile(0.25)\n",
    "        Q3 = data[feature].quantile(0.75)\n",
    "        IQR = Q3 - Q1\n",
    "        lower_bound = Q1 - (1.5 * IQR)\n",
    "        upper_bound = Q3 + (1.5 * IQR)\n",
    "        data[feature] = np.where((data[feature] < lower_bound) | (data[feature] > upper_bound),\n",
    "                                 data[feature].mean(), data[feature])\n",
    "\n",
    "    #Normalize numeric features\n",
    "    scaler = StandardScaler()\n",
    "    scaled_data = scaler.fit_transform(data[numeric_features])\n",
    "    data[numeric_features] = scaler.transform(data[numeric_features])\n",
    "\n",
    "    #Handle missing values in categorical features\n",
    "    data[categorical_features] = data[categorical_features].fillna(data[categorical_features].mode().iloc[0])\n",
    "\n",
    "    return data"
   ]
  },
  {
   "cell_type": "code",
   "execution_count": 9,
   "id": "833b67aa-4594-4aae-b3d8-72a4348a0ac1",
   "metadata": {},
   "outputs": [],
   "source": [
    "# import pandas as pd\n",
    "# import numpy as np\n",
    "# from sklearn.preprocessing import StandardScaler\n",
    "\n",
    "# def data_preprocessing_pipeline(data):\n",
    "#     # Identify numeric and categorical features\n",
    "#     numeric_features = data.select_dtypes(include=['float', 'int']).columns\n",
    "#     categorical_features = data.select_dtypes(include=['object']).columns\n",
    "\n",
    "#     # Handle missing values in numeric features by filling with the mean\n",
    "#     data[numeric_features] = data[numeric_features].fillna(data[numeric_features].mean())\n",
    "\n",
    "#     # Detect and handle outliers in numeric features using IQR\n",
    "#     for feature in numeric_features:\n",
    "#         Q1 = data[feature].quantile(0.25)\n",
    "#         Q3 = data[feature].quantile(0.75)\n",
    "#         IQR = Q3 - Q1\n",
    "#         lower_bound = Q1 - (1.5 * IQR)\n",
    "#         upper_bound = Q3 + (1.5 * IQR)\n",
    "#         data[feature] = np.where((data[feature] < lower_bound) | (data[feature] > upper_bound),\n",
    "#                                  data[feature].mean(), data[feature])\n",
    "\n",
    "#     # Normalize numeric features using StandardScaler\n",
    "#     scaler = StandardScaler()\n",
    "#     data[numeric_features] = scaler.fit_transform(data[numeric_features])\n",
    "\n",
    "#     # Handle missing values in categorical features by filling with the mode\n",
    "#     data[categorical_features] = data[categorical_features].fillna(data[categorical_features].mode().iloc[0])\n",
    "\n",
    "#     return data\n",
    "\n",
    "# # Example usage with a sample dataset\n",
    "# # Replace this with your actual DataFrame or data source\n",
    "# sample_data = pd.DataFrame({\n",
    "#     'age': [25, np.nan, 35, 45, 50],\n",
    "#     'income': [50000, 60000, 55000, np.nan, 65000],\n",
    "#     'gender': ['male', 'female', np.nan, 'male', 'female']\n",
    "# })\n",
    "\n",
    "# # Call the data preprocessing function with the sample data\n",
    "# processed_data = data_preprocessing_pipeline(sample_data)\n",
    "# print(processed_data)\n"
   ]
  },
  {
   "cell_type": "markdown",
   "id": "198357dc-b1ba-46bc-96ff-d323c3c83d37",
   "metadata": {},
   "source": [
    "This pipeline is designed to handle various preprocessing tasks on any given dataset. Let’s explore how each step in the pipeline contributes to the overall preprocessing process:\n",
    "\n",
    "   1. The pipeline begins by identifying the numeric and categorical features in the dataset.\n",
    "   2. Next, the pipeline addresses any missing values present in the numeric features. It fills these missing values with the mean value of each respective numeric feature (you can modify this step according to your desired way of filling in missing values of a numerical feature). It ensures that missing data does not hinder subsequent analysis and computations.\n",
    "   3. The pipeline then identifies and handles outliers within the numeric features using the Interquartile Range (IQR) method. Calculating the quartiles and the IQR determines upper and lower boundaries for outliers. Any values outside these boundaries are replaced with the mean value of the respective numeric feature. This step helps prevent the influence of extreme values on subsequent analyses and model building.\n",
    "   4. After handling missing values and outliers, the pipeline normalizes the numeric features. This process ensures that all numeric features contribute equally to subsequent analysis, avoiding biases caused by varying magnitudes.\n",
    "   5. The pipeline proceeds to handle missing values in the categorical features. It fills these missing values with the mode value, representing the most frequently occurring category.\n",
    "\n",
    "By following this pipeline, data professionals can automate and streamline the process of preparing data for analysis, ensuring data quality, reliability, and consistency.\n",
    "\n",
    "Now let’s test this pipeline on sample data. You can download the sample data I am using for this task from here. Let’s have a look at the sample data first:"
   ]
  },
  {
   "cell_type": "code",
   "execution_count": 10,
   "id": "4b94456e-af91-4999-bb7c-614ae607e9a8",
   "metadata": {},
   "outputs": [
    {
     "name": "stdout",
     "output_type": "stream",
     "text": [
      "Original Data:\n",
      "   NumericFeature1  NumericFeature2 CategoricalFeature\n",
      "0              1.0                7                  A\n",
      "1              2.0                8                  B\n",
      "2              NaN                9                NaN\n",
      "3              4.0               10                  A\n",
      "4              5.0               11                  B\n",
      "5              6.0               50                  C\n"
     ]
    }
   ],
   "source": [
    "data = pd.read_csv(\"data.csv\")\n",
    "\n",
    "print(\"Original Data:\")\n",
    "print(data)"
   ]
  },
  {
   "cell_type": "markdown",
   "id": "4747cba4-a547-4860-8688-c4c889a148f1",
   "metadata": {},
   "source": [
    "And here’s how you can use this pipeline to perform all the preprocessing steps using Python:"
   ]
  },
  {
   "cell_type": "code",
   "execution_count": 11,
   "id": "034968d3-1564-4407-9829-ffdad1eb11dd",
   "metadata": {},
   "outputs": [
    {
     "name": "stdout",
     "output_type": "stream",
     "text": [
      "Preprocessed Data:\n",
      "   NumericFeature1  NumericFeature2 CategoricalFeature\n",
      "0        -1.535624        -1.099370                  A\n",
      "1        -0.944999        -0.749128                  B\n",
      "2         0.000000        -0.398886                  A\n",
      "3         0.236250        -0.048645                  A\n",
      "4         0.826874         0.301597                  B\n",
      "5         1.417499         1.994431                  C\n"
     ]
    }
   ],
   "source": [
    "#Perform data preprocessing\n",
    "cleaned_data = data_preprocessing_pipeline(data)\n",
    "\n",
    "print(\"Preprocessed Data:\")\n",
    "print(cleaned_data)"
   ]
  },
  {
   "cell_type": "code",
   "execution_count": null,
   "id": "98429f8e-dc01-42c5-9500-3e39e7b198fa",
   "metadata": {},
   "outputs": [],
   "source": []
  },
  {
   "cell_type": "code",
   "execution_count": null,
   "id": "7ba9463f-cd50-499c-a077-c77dd3d05ec3",
   "metadata": {},
   "outputs": [],
   "source": []
  },
  {
   "cell_type": "code",
   "execution_count": null,
   "id": "02246a05-0fa0-49cc-8dcf-3f3b227a0c64",
   "metadata": {},
   "outputs": [],
   "source": []
  }
 ],
 "metadata": {
  "kernelspec": {
   "display_name": "Python 3 (ipykernel)",
   "language": "python",
   "name": "python3"
  },
  "language_info": {
   "codemirror_mode": {
    "name": "ipython",
    "version": 3
   },
   "file_extension": ".py",
   "mimetype": "text/x-python",
   "name": "python",
   "nbconvert_exporter": "python",
   "pygments_lexer": "ipython3",
   "version": "3.10.11"
  }
 },
 "nbformat": 4,
 "nbformat_minor": 5
}
