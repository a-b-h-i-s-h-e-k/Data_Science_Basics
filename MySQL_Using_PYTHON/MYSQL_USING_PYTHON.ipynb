{
 "cells": [
  {
   "cell_type": "code",
   "execution_count": 2,
   "id": "0a59cdf5-8f60-4321-a91e-b1b5c9cd50fb",
   "metadata": {},
   "outputs": [],
   "source": [
    "#!pip install mysql-connector-python"
   ]
  },
  {
   "cell_type": "code",
   "execution_count": 5,
   "id": "285b9e02-28e6-4d7e-a0ac-6e0139597bec",
   "metadata": {},
   "outputs": [
    {
     "name": "stdout",
     "output_type": "stream",
     "text": [
      "(1, 'John Doe', 20, 'A')\n"
     ]
    }
   ],
   "source": [
    "import sqlite3  # Import the sqlite3 library to work with SQLite databases\n",
    "\n",
    "# 1. Connect to the SQLite database\n",
    "# This creates a connection object that represents the database. If the 'example.db' file doesn't exist, \n",
    "# it will be created in the current working directory. \n",
    "# The 'connection' object allows us to execute SQL commands and interact with the database.\n",
    "connection = sqlite3.connect('example.db')\n",
    "\n",
    "# 2. Create a cursor object to execute SQL commands\n",
    "# The cursor is like a handler that helps us execute SQL queries and fetch results from the database.\n",
    "cursor = connection.cursor()\n",
    "\n",
    "# 3. Create a table (if it does not exist)\n",
    "# The SQL command below creates a table called 'students' with four columns: 'id', 'name', 'age', and 'grade'.\n",
    "# 'id' is the primary key, meaning it uniquely identifies each row. \n",
    "# The 'IF NOT EXISTS' clause ensures that the table will only be created if it doesn't already exist in the database.\n",
    "# cursor.execute('''\n",
    "#     CREATE TABLE IF NOT EXISTS students (\n",
    "#         id INTEGER PRIMARY KEY,  # Unique identifier for each student\n",
    "#         name TEXT NOT NULL,       # Name of the student (must not be null)\n",
    "#         age INTEGER,              # Age of the student\n",
    "#         grade TEXT                # Grade of the student (e.g., A, B, C)\n",
    "#     )\n",
    "# ''')\n",
    "\n",
    "cursor.execute('''\n",
    "    CREATE TABLE IF NOT EXISTS students (\n",
    "        id INTEGER PRIMARY KEY,  \n",
    "        name TEXT NOT NULL,       \n",
    "        age INTEGER,              \n",
    "        grade TEXT                \n",
    "    )\n",
    "''')\n",
    "\n",
    "# 4. Insert some data into the table\n",
    "# This SQL command inserts one row into the 'students' table with the name 'John Doe', age 20, and grade 'A'.\n",
    "# SQL uses the 'INSERT INTO' command to add new records to a table.\n",
    "cursor.execute('''\n",
    "    INSERT INTO students (name, age, grade)\n",
    "    VALUES ('John Doe', 20, 'A')\n",
    "''')\n",
    "\n",
    "# 5. Commit the transaction\n",
    "# This saves the changes to the database. Without committing, the data will not be permanently stored in the database.\n",
    "connection.commit()\n",
    "\n",
    "# 6. Query the data\n",
    "# The 'SELECT' SQL command is used to retrieve data from the 'students' table.\n",
    "# This line fetches all the rows from the table (using the '*' wildcard, which means all columns).\n",
    "cursor.execute('SELECT * FROM students')\n",
    "\n",
    "# 7. Fetch and display the results\n",
    "# The 'fetchall()' method retrieves all rows returned by the query as a list of tuples.\n",
    "# Each tuple represents a row in the database. We then loop through the rows and print each one.\n",
    "rows = cursor.fetchall()\n",
    "for row in rows:\n",
    "    print(row)\n",
    "\n",
    "# 8. Close the connection\n",
    "# It's important to close the connection after all operations are completed to free up resources.\n",
    "connection.close()\n"
   ]
  },
  {
   "cell_type": "code",
   "execution_count": 8,
   "id": "6713d27f-cffc-4eef-bd3d-947041512e18",
   "metadata": {},
   "outputs": [],
   "source": [
    "# import pandas as pd\n",
    "\n",
    "# # 1. Create a Pandas DataFrame\n",
    "# data = {\n",
    "#     'name': ['Alice', 'Bob', 'Charlie'],\n",
    "#     'age': [22, 23, 21],\n",
    "#     'grade': ['B', 'A', 'C']\n",
    "# }\n",
    "\n",
    "# df = pd.DataFrame(data)\n",
    "\n",
    "# # 2. Save the DataFrame to a CSV file (this will create a 'students.csv' file)\n",
    "# df.to_csv('students.csv', index=False)\n",
    "\n",
    "# # 3. Display the DataFrame\n",
    "# print(df)\n"
   ]
  },
  {
   "cell_type": "code",
   "execution_count": 9,
   "id": "c19dba84-413d-4870-8fab-b1adf2f3ebe2",
   "metadata": {},
   "outputs": [
    {
     "name": "stdout",
     "output_type": "stream",
     "text": [
      "(1, 'John Doe', 20, 'A')\n",
      "(2, 'Alice', 22, 'B')\n",
      "(3, 'Bob', 23, 'A')\n",
      "(4, 'Charlie', 21, 'C')\n",
      "(5, 'Alice', 22, 'B')\n",
      "(6, 'Bob', 23, 'A')\n",
      "(7, 'Charlie', 21, 'C')\n"
     ]
    }
   ],
   "source": [
    "import sqlite3\n",
    "import csv\n",
    "\n",
    "# 1. Connect to the SQLite database (same as before)\n",
    "connection = sqlite3.connect('example.db')\n",
    "cursor = connection.cursor()\n",
    "\n",
    "# 2. Create the table (if not exists) (same as before)\n",
    "cursor.execute('''\n",
    "    CREATE TABLE IF NOT EXISTS students (\n",
    "        id INTEGER PRIMARY KEY,\n",
    "        name TEXT NOT NULL,\n",
    "        age INTEGER,\n",
    "        grade TEXT\n",
    "    )\n",
    "''')\n",
    "\n",
    "# 3. Load data from a CSV file\n",
    "# Open the CSV file. Assume the CSV file has columns: 'name', 'age', 'grade'.\n",
    "with open('students.csv', newline='') as csvfile:\n",
    "    reader = csv.DictReader(csvfile)\n",
    "    for row in reader:\n",
    "        # 4. Insert each row into the students table\n",
    "        cursor.execute('''\n",
    "            INSERT INTO students (name, age, grade)\n",
    "            VALUES (?, ?, ?)\n",
    "        ''', (row['name'], row['age'], row['grade']))\n",
    "\n",
    "# 5. Commit the changes to save the inserted data\n",
    "connection.commit()\n",
    "\n",
    "# 6. Query and display the data to verify the insertions\n",
    "cursor.execute('SELECT * FROM students')\n",
    "rows = cursor.fetchall()\n",
    "for row in rows:\n",
    "    print(row)\n",
    "\n",
    "# 7. Close the connection\n",
    "connection.close()\n"
   ]
  },
  {
   "cell_type": "code",
   "execution_count": null,
   "id": "53a6003e-8b58-428e-99ba-c2e3fc2bd9b9",
   "metadata": {},
   "outputs": [],
   "source": []
  }
 ],
 "metadata": {
  "kernelspec": {
   "display_name": "Python 3 (ipykernel)",
   "language": "python",
   "name": "python3"
  },
  "language_info": {
   "codemirror_mode": {
    "name": "ipython",
    "version": 3
   },
   "file_extension": ".py",
   "mimetype": "text/x-python",
   "name": "python",
   "nbconvert_exporter": "python",
   "pygments_lexer": "ipython3",
   "version": "3.10.14"
  }
 },
 "nbformat": 4,
 "nbformat_minor": 5
}
