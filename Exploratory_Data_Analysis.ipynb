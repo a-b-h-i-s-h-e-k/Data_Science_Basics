{
 "cells": [
  {
   "cell_type": "code",
   "execution_count": 1,
   "id": "6433f577-8420-4f9a-8539-dc6219e3594b",
   "metadata": {},
   "outputs": [],
   "source": [
    "import pandas as pd\n",
    "import numpy as np\n",
    "\n",
    "df = pd.read_csv(\"Toyota.csv\",index_col=0,na_values=['??','????'])\n",
    "df1 = df.copy()"
   ]
  },
  {
   "cell_type": "markdown",
   "id": "e6ff48c5-b251-4041-9fe9-90d9f886c113",
   "metadata": {},
   "source": [
    "# Frequency Tables\n"
   ]
  },
  {
   "cell_type": "markdown",
   "id": "4679403a-59c0-46c2-af58-7fa270e3ef32",
   "metadata": {},
   "source": [
    "<li>variable->column</li>\n",
    "<li>Q. How we get the frequency of our variables & what is frequency table.</li>\n",
    "<li>Suppose we have multiple variables in our dataframe and if we want to understand the data more</li>\n",
    "<li>So, we can basically want to check the relationship that exists b/w the variables, but we can't just check like the relationship b/w all the variables means we can check the variable relationship b/w all the variables at one time</li>\n",
    "<li> so, we can do one by one for example the relationship between any categorical variable using Cross Tabulation or if we want to just Univariate analysis on the categorical variable, so we can also create a frequency table. </li>\n",
    "<li>So, finding the relationship b/w the variables we can also use the cross tabulation or if you want to off univariate analysis</li>"
   ]
  },
  {
   "cell_type": "markdown",
   "id": "76dcf681-c539-46ad-a36a-379091f9c3fa",
   "metadata": {},
   "source": [
    "<b>pandas.crosstab()</b>\n",
    "<ul>\n",
    "    <li>To compute a simple cross-tabulation of one, two(or more) factors</li>\n",
    "    <li>By default computes a frequency table of the factors(particular column)</li>\n",
    "    \n",
    "</ul>"
   ]
  },
  {
   "cell_type": "code",
   "execution_count": 2,
   "id": "2cba849d-a2af-4986-a984-9fd36d025381",
   "metadata": {},
   "outputs": [
    {
     "name": "stdout",
     "output_type": "stream",
     "text": [
      "col_0     count\n",
      "FuelType       \n",
      "CNG          15\n",
      "Diesel      144\n",
      "Petrol     1177\n"
     ]
    }
   ],
   "source": [
    "# we create object for that & then in this object we are apply the method crosstab, \n",
    "# In crosstab parameter we select one columnand then get the frequency of that column using count, becoz we want frequency\n",
    "# dropna=true means it only count frequency of fixed column not blank/na column.\n",
    "\n",
    "df1_cate = pd.crosstab(index=df1['FuelType'],columns='count',dropna=True)\n",
    "print(df1_cate)"
   ]
  },
  {
   "cell_type": "markdown",
   "id": "75b9a5ba-6b39-4006-b294-7ae5f698dd64",
   "metadata": {},
   "source": [
    "# Create Two-way Table"
   ]
  },
  {
   "cell_type": "code",
   "execution_count": 5,
   "id": "5cbf5a0d-006c-4ee2-b391-9821a9a7c60c",
   "metadata": {},
   "outputs": [
    {
     "data": {
      "text/html": [
       "<div>\n",
       "<style scoped>\n",
       "    .dataframe tbody tr th:only-of-type {\n",
       "        vertical-align: middle;\n",
       "    }\n",
       "\n",
       "    .dataframe tbody tr th {\n",
       "        vertical-align: top;\n",
       "    }\n",
       "\n",
       "    .dataframe thead th {\n",
       "        text-align: right;\n",
       "    }\n",
       "</style>\n",
       "<table border=\"1\" class=\"dataframe\">\n",
       "  <thead>\n",
       "    <tr style=\"text-align: right;\">\n",
       "      <th>FuelType</th>\n",
       "      <th>CNG</th>\n",
       "      <th>Diesel</th>\n",
       "      <th>Petrol</th>\n",
       "    </tr>\n",
       "    <tr>\n",
       "      <th>Automatic</th>\n",
       "      <th></th>\n",
       "      <th></th>\n",
       "      <th></th>\n",
       "    </tr>\n",
       "  </thead>\n",
       "  <tbody>\n",
       "    <tr>\n",
       "      <th>0</th>\n",
       "      <td>15</td>\n",
       "      <td>144</td>\n",
       "      <td>1104</td>\n",
       "    </tr>\n",
       "    <tr>\n",
       "      <th>1</th>\n",
       "      <td>0</td>\n",
       "      <td>0</td>\n",
       "      <td>73</td>\n",
       "    </tr>\n",
       "  </tbody>\n",
       "</table>\n",
       "</div>"
      ],
      "text/plain": [
       "FuelType   CNG  Diesel  Petrol\n",
       "Automatic                     \n",
       "0           15     144    1104\n",
       "1            0       0      73"
      ]
     },
     "execution_count": 5,
     "metadata": {},
     "output_type": "execute_result"
    }
   ],
   "source": [
    "# we will simply look at the frequency distribution of gear box types with respect to the fueltypes of the cars\n",
    "# It's two way table so we use here 2 columns how many manual and automatic[0-manual,1-automatic]\n",
    "\n",
    "pd.crosstab(index=df1[\"Automatic\"],columns=df1[\"FuelType\"],dropna=True)"
   ]
  },
  {
   "cell_type": "markdown",
   "id": "33762db6-d2ba-4b97-8db2-36f0dd1eadf0",
   "metadata": {},
   "source": [
    "# Two-Way Table - Joint Probability"
   ]
  },
  {
   "cell_type": "markdown",
   "id": "edcb422b-d643-46d6-842c-4b123ba4649e",
   "metadata": {},
   "source": [
    "joint probability is likelihood of means of two independent events, likw what happening at the same time that is probability.\n",
    "<br>\n",
    "We are going to fetch the probability values, like how many chances of getting cng manual, how many chances of getting patrol manual"
   ]
  },
  {
   "cell_type": "code",
   "execution_count": 6,
   "id": "22551f08-55d7-427c-b816-78eaecfaf9aa",
   "metadata": {},
   "outputs": [
    {
     "data": {
      "text/html": [
       "<div>\n",
       "<style scoped>\n",
       "    .dataframe tbody tr th:only-of-type {\n",
       "        vertical-align: middle;\n",
       "    }\n",
       "\n",
       "    .dataframe tbody tr th {\n",
       "        vertical-align: top;\n",
       "    }\n",
       "\n",
       "    .dataframe thead th {\n",
       "        text-align: right;\n",
       "    }\n",
       "</style>\n",
       "<table border=\"1\" class=\"dataframe\">\n",
       "  <thead>\n",
       "    <tr style=\"text-align: right;\">\n",
       "      <th>FuelType</th>\n",
       "      <th>CNG</th>\n",
       "      <th>Diesel</th>\n",
       "      <th>Petrol</th>\n",
       "    </tr>\n",
       "    <tr>\n",
       "      <th>Automatic</th>\n",
       "      <th></th>\n",
       "      <th></th>\n",
       "      <th></th>\n",
       "    </tr>\n",
       "  </thead>\n",
       "  <tbody>\n",
       "    <tr>\n",
       "      <th>0</th>\n",
       "      <td>0.011228</td>\n",
       "      <td>0.107784</td>\n",
       "      <td>0.826347</td>\n",
       "    </tr>\n",
       "    <tr>\n",
       "      <th>1</th>\n",
       "      <td>0.000000</td>\n",
       "      <td>0.000000</td>\n",
       "      <td>0.054641</td>\n",
       "    </tr>\n",
       "  </tbody>\n",
       "</table>\n",
       "</div>"
      ],
      "text/plain": [
       "FuelType        CNG    Diesel    Petrol\n",
       "Automatic                              \n",
       "0          0.011228  0.107784  0.826347\n",
       "1          0.000000  0.000000  0.054641"
      ]
     },
     "execution_count": 6,
     "metadata": {},
     "output_type": "execute_result"
    }
   ],
   "source": [
    "pd.crosstab(index=df1[\"Automatic\"],columns=df1[\"FuelType\"],dropna=True,normalize=True)"
   ]
  },
  {
   "cell_type": "markdown",
   "id": "5918fabc-d6bc-459c-b25f-f0bc089a55d8",
   "metadata": {},
   "source": [
    "# Two-Way Marginal Probability"
   ]
  },
  {
   "cell_type": "markdown",
   "id": "b8dfa2e7-9a7e-4915-805f-f29abbe90d2b",
   "metadata": {},
   "source": [
    "Marginal Probability is the probability of the occurrence of the single event\n",
    "<br>\n",
    "In this we will get the total value of a single means of CNG on both like on manual gearbox also and on automatic gearbox<br> we also get the total value also.\n",
    "<br>\n",
    "here we get the total values both rowwise also and column wise also"
   ]
  },
  {
   "cell_type": "code",
   "execution_count": 8,
   "id": "e724cfad-3cf1-4764-b1c4-17998687c4ed",
   "metadata": {},
   "outputs": [
    {
     "data": {
      "text/html": [
       "<div>\n",
       "<style scoped>\n",
       "    .dataframe tbody tr th:only-of-type {\n",
       "        vertical-align: middle;\n",
       "    }\n",
       "\n",
       "    .dataframe tbody tr th {\n",
       "        vertical-align: top;\n",
       "    }\n",
       "\n",
       "    .dataframe thead th {\n",
       "        text-align: right;\n",
       "    }\n",
       "</style>\n",
       "<table border=\"1\" class=\"dataframe\">\n",
       "  <thead>\n",
       "    <tr style=\"text-align: right;\">\n",
       "      <th>FuelType</th>\n",
       "      <th>CNG</th>\n",
       "      <th>Diesel</th>\n",
       "      <th>Petrol</th>\n",
       "      <th>All</th>\n",
       "    </tr>\n",
       "    <tr>\n",
       "      <th>Automatic</th>\n",
       "      <th></th>\n",
       "      <th></th>\n",
       "      <th></th>\n",
       "      <th></th>\n",
       "    </tr>\n",
       "  </thead>\n",
       "  <tbody>\n",
       "    <tr>\n",
       "      <th>0</th>\n",
       "      <td>0.011228</td>\n",
       "      <td>0.107784</td>\n",
       "      <td>0.826347</td>\n",
       "      <td>0.945359</td>\n",
       "    </tr>\n",
       "    <tr>\n",
       "      <th>1</th>\n",
       "      <td>0.000000</td>\n",
       "      <td>0.000000</td>\n",
       "      <td>0.054641</td>\n",
       "      <td>0.054641</td>\n",
       "    </tr>\n",
       "    <tr>\n",
       "      <th>All</th>\n",
       "      <td>0.011228</td>\n",
       "      <td>0.107784</td>\n",
       "      <td>0.880988</td>\n",
       "      <td>1.000000</td>\n",
       "    </tr>\n",
       "  </tbody>\n",
       "</table>\n",
       "</div>"
      ],
      "text/plain": [
       "FuelType        CNG    Diesel    Petrol       All\n",
       "Automatic                                        \n",
       "0          0.011228  0.107784  0.826347  0.945359\n",
       "1          0.000000  0.000000  0.054641  0.054641\n",
       "All        0.011228  0.107784  0.880988  1.000000"
      ]
     },
     "execution_count": 8,
     "metadata": {},
     "output_type": "execute_result"
    }
   ],
   "source": [
    "pd.crosstab(index=df1[\"Automatic\"],columns=df1[\"FuelType\"],dropna=True,normalize=True,margins=True)"
   ]
  },
  {
   "cell_type": "markdown",
   "id": "9abb4666-ae8f-4ae7-a3ce-3e6bb3dcd1ba",
   "metadata": {},
   "source": [
    "# Two-Way Table - Conditional Probability\n",
    "\n",
    "--> Is the probability of an event 'A', which is given that another event 'B' has already occured<br> so, mean based on the another event we will find the probability of event 'A'\n",
    "<br>\n",
    "if we do total of rowwise and columnwise we get one from both sides\n",
    "<br>\n",
    "index = row, columns = columns"
   ]
  },
  {
   "cell_type": "code",
   "execution_count": 9,
   "id": "6362e491-30ee-4a1d-81c8-4bf734aae5a4",
   "metadata": {},
   "outputs": [
    {
     "data": {
      "text/html": [
       "<div>\n",
       "<style scoped>\n",
       "    .dataframe tbody tr th:only-of-type {\n",
       "        vertical-align: middle;\n",
       "    }\n",
       "\n",
       "    .dataframe tbody tr th {\n",
       "        vertical-align: top;\n",
       "    }\n",
       "\n",
       "    .dataframe thead th {\n",
       "        text-align: right;\n",
       "    }\n",
       "</style>\n",
       "<table border=\"1\" class=\"dataframe\">\n",
       "  <thead>\n",
       "    <tr style=\"text-align: right;\">\n",
       "      <th>FuelType</th>\n",
       "      <th>CNG</th>\n",
       "      <th>Diesel</th>\n",
       "      <th>Petrol</th>\n",
       "    </tr>\n",
       "    <tr>\n",
       "      <th>Automatic</th>\n",
       "      <th></th>\n",
       "      <th></th>\n",
       "      <th></th>\n",
       "    </tr>\n",
       "  </thead>\n",
       "  <tbody>\n",
       "    <tr>\n",
       "      <th>0</th>\n",
       "      <td>0.011876</td>\n",
       "      <td>0.114014</td>\n",
       "      <td>0.874109</td>\n",
       "    </tr>\n",
       "    <tr>\n",
       "      <th>1</th>\n",
       "      <td>0.000000</td>\n",
       "      <td>0.000000</td>\n",
       "      <td>1.000000</td>\n",
       "    </tr>\n",
       "    <tr>\n",
       "      <th>All</th>\n",
       "      <td>0.011228</td>\n",
       "      <td>0.107784</td>\n",
       "      <td>0.880988</td>\n",
       "    </tr>\n",
       "  </tbody>\n",
       "</table>\n",
       "</div>"
      ],
      "text/plain": [
       "FuelType        CNG    Diesel    Petrol\n",
       "Automatic                              \n",
       "0          0.011876  0.114014  0.874109\n",
       "1          0.000000  0.000000  1.000000\n",
       "All        0.011228  0.107784  0.880988"
      ]
     },
     "execution_count": 9,
     "metadata": {},
     "output_type": "execute_result"
    }
   ],
   "source": [
    "pd.crosstab(index=df1[\"Automatic\"],columns=df1[\"FuelType\"],margins=True,normalize='index')"
   ]
  },
  {
   "cell_type": "code",
   "execution_count": 10,
   "id": "590d9635-3c4a-48ba-be7e-db8b22244973",
   "metadata": {},
   "outputs": [
    {
     "data": {
      "text/html": [
       "<div>\n",
       "<style scoped>\n",
       "    .dataframe tbody tr th:only-of-type {\n",
       "        vertical-align: middle;\n",
       "    }\n",
       "\n",
       "    .dataframe tbody tr th {\n",
       "        vertical-align: top;\n",
       "    }\n",
       "\n",
       "    .dataframe thead th {\n",
       "        text-align: right;\n",
       "    }\n",
       "</style>\n",
       "<table border=\"1\" class=\"dataframe\">\n",
       "  <thead>\n",
       "    <tr style=\"text-align: right;\">\n",
       "      <th>FuelType</th>\n",
       "      <th>CNG</th>\n",
       "      <th>Diesel</th>\n",
       "      <th>Petrol</th>\n",
       "      <th>All</th>\n",
       "    </tr>\n",
       "    <tr>\n",
       "      <th>Automatic</th>\n",
       "      <th></th>\n",
       "      <th></th>\n",
       "      <th></th>\n",
       "      <th></th>\n",
       "    </tr>\n",
       "  </thead>\n",
       "  <tbody>\n",
       "    <tr>\n",
       "      <th>0</th>\n",
       "      <td>1.0</td>\n",
       "      <td>1.0</td>\n",
       "      <td>0.937978</td>\n",
       "      <td>0.945359</td>\n",
       "    </tr>\n",
       "    <tr>\n",
       "      <th>1</th>\n",
       "      <td>0.0</td>\n",
       "      <td>0.0</td>\n",
       "      <td>0.062022</td>\n",
       "      <td>0.054641</td>\n",
       "    </tr>\n",
       "  </tbody>\n",
       "</table>\n",
       "</div>"
      ],
      "text/plain": [
       "FuelType   CNG  Diesel    Petrol       All\n",
       "Automatic                                 \n",
       "0          1.0     1.0  0.937978  0.945359\n",
       "1          0.0     0.0  0.062022  0.054641"
      ]
     },
     "execution_count": 10,
     "metadata": {},
     "output_type": "execute_result"
    }
   ],
   "source": [
    "pd.crosstab(index=df1[\"Automatic\"],columns=df1[\"FuelType\"],margins=True,normalize='columns')"
   ]
  },
  {
   "cell_type": "markdown",
   "id": "cd22d287-cdea-4cb9-a4d9-9cad6d6a24a6",
   "metadata": {},
   "source": [
    "# Correlation\n",
    "<ul>\n",
    "    <b>DataFrame.corr(self,method='person')</b>\n",
    "    <li>To compute pairwise correlation of the columns excluding NA/null values</li>\n",
    "    <li>Excluding the categorical variables to find the Pearson's correlation</li>\n",
    "    <li><b>Pearson correlation</b> pi & correlation is find between only numerical values means only numerical variables</li>\n",
    "</ul>\n",
    "--> Finding the relationship between two variables <br>\n",
    "correlation give us 3 values zero, one (highest value) means it's between 0 and 1 on the positive side or in the negative side<br>\n",
    "if the value is in the positive side one means the highest value will be positive one then there is high increasing relationship between those two variables <br>\n",
    "'-1' means highest decreasing value <br>\n",
    "'0' means it is neutral"
   ]
  },
  {
   "cell_type": "code",
   "execution_count": 14,
   "id": "ea2eb8b6-6588-4458-9553-6c1ef0811a6c",
   "metadata": {},
   "outputs": [
    {
     "name": "stdout",
     "output_type": "stream",
     "text": [
      "      Price   Age       KM     HP  MetColor  Automatic    CC  Weight\n",
      "0     13500  23.0  46986.0   90.0       1.0          0  2000    1165\n",
      "1     13750  23.0  72937.0   90.0       1.0          0  2000    1165\n",
      "2     13950  24.0  41711.0   90.0       NaN          0  2000    1165\n",
      "3     14950  26.0  48000.0   90.0       0.0          0  2000    1165\n",
      "4     13750  30.0  38500.0   90.0       0.0          0  2000    1170\n",
      "...     ...   ...      ...    ...       ...        ...   ...     ...\n",
      "1431   7500   NaN  20544.0   86.0       1.0          0  1300    1025\n",
      "1432  10845  72.0      NaN   86.0       0.0          0  1300    1015\n",
      "1433   8500   NaN  17016.0   86.0       0.0          0  1300    1015\n",
      "1434   7250  70.0      NaN   86.0       1.0          0  1300    1015\n",
      "1435   6950  76.0      1.0  110.0       0.0          0  1600    1114\n",
      "\n",
      "[1436 rows x 8 columns]\n",
      "(1436, 8)\n"
     ]
    }
   ],
   "source": [
    "# excluding the object type/categorical value\n",
    "\n",
    "numerical_data = df1.select_dtypes(exclude=['object'])\n",
    "print(numerical_data)\n",
    "print(numerical_data.shape)"
   ]
  },
  {
   "cell_type": "code",
   "execution_count": 16,
   "id": "be4480b3-8a99-4dbb-8a9c-10afbfffeb7c",
   "metadata": {},
   "outputs": [
    {
     "data": {
      "text/html": [
       "<div>\n",
       "<style scoped>\n",
       "    .dataframe tbody tr th:only-of-type {\n",
       "        vertical-align: middle;\n",
       "    }\n",
       "\n",
       "    .dataframe tbody tr th {\n",
       "        vertical-align: top;\n",
       "    }\n",
       "\n",
       "    .dataframe thead th {\n",
       "        text-align: right;\n",
       "    }\n",
       "</style>\n",
       "<table border=\"1\" class=\"dataframe\">\n",
       "  <thead>\n",
       "    <tr style=\"text-align: right;\">\n",
       "      <th></th>\n",
       "      <th>Price</th>\n",
       "      <th>Age</th>\n",
       "      <th>KM</th>\n",
       "      <th>HP</th>\n",
       "      <th>MetColor</th>\n",
       "      <th>Automatic</th>\n",
       "      <th>CC</th>\n",
       "      <th>Weight</th>\n",
       "    </tr>\n",
       "  </thead>\n",
       "  <tbody>\n",
       "    <tr>\n",
       "      <th>Price</th>\n",
       "      <td>1.000000</td>\n",
       "      <td>-0.878407</td>\n",
       "      <td>-0.574720</td>\n",
       "      <td>0.309902</td>\n",
       "      <td>0.112041</td>\n",
       "      <td>0.033081</td>\n",
       "      <td>0.165067</td>\n",
       "      <td>0.581198</td>\n",
       "    </tr>\n",
       "    <tr>\n",
       "      <th>Age</th>\n",
       "      <td>-0.878407</td>\n",
       "      <td>1.000000</td>\n",
       "      <td>0.512735</td>\n",
       "      <td>-0.157904</td>\n",
       "      <td>-0.099659</td>\n",
       "      <td>0.032573</td>\n",
       "      <td>-0.120706</td>\n",
       "      <td>-0.464299</td>\n",
       "    </tr>\n",
       "    <tr>\n",
       "      <th>KM</th>\n",
       "      <td>-0.574720</td>\n",
       "      <td>0.512735</td>\n",
       "      <td>1.000000</td>\n",
       "      <td>-0.335285</td>\n",
       "      <td>-0.093825</td>\n",
       "      <td>-0.081248</td>\n",
       "      <td>0.299993</td>\n",
       "      <td>-0.026271</td>\n",
       "    </tr>\n",
       "    <tr>\n",
       "      <th>HP</th>\n",
       "      <td>0.309902</td>\n",
       "      <td>-0.157904</td>\n",
       "      <td>-0.335285</td>\n",
       "      <td>1.000000</td>\n",
       "      <td>0.064749</td>\n",
       "      <td>0.013755</td>\n",
       "      <td>0.053758</td>\n",
       "      <td>0.086737</td>\n",
       "    </tr>\n",
       "    <tr>\n",
       "      <th>MetColor</th>\n",
       "      <td>0.112041</td>\n",
       "      <td>-0.099659</td>\n",
       "      <td>-0.093825</td>\n",
       "      <td>0.064749</td>\n",
       "      <td>1.000000</td>\n",
       "      <td>-0.013973</td>\n",
       "      <td>0.029189</td>\n",
       "      <td>0.057142</td>\n",
       "    </tr>\n",
       "    <tr>\n",
       "      <th>Automatic</th>\n",
       "      <td>0.033081</td>\n",
       "      <td>0.032573</td>\n",
       "      <td>-0.081248</td>\n",
       "      <td>0.013755</td>\n",
       "      <td>-0.013973</td>\n",
       "      <td>1.000000</td>\n",
       "      <td>-0.069321</td>\n",
       "      <td>0.057249</td>\n",
       "    </tr>\n",
       "    <tr>\n",
       "      <th>CC</th>\n",
       "      <td>0.165067</td>\n",
       "      <td>-0.120706</td>\n",
       "      <td>0.299993</td>\n",
       "      <td>0.053758</td>\n",
       "      <td>0.029189</td>\n",
       "      <td>-0.069321</td>\n",
       "      <td>1.000000</td>\n",
       "      <td>0.651450</td>\n",
       "    </tr>\n",
       "    <tr>\n",
       "      <th>Weight</th>\n",
       "      <td>0.581198</td>\n",
       "      <td>-0.464299</td>\n",
       "      <td>-0.026271</td>\n",
       "      <td>0.086737</td>\n",
       "      <td>0.057142</td>\n",
       "      <td>0.057249</td>\n",
       "      <td>0.651450</td>\n",
       "      <td>1.000000</td>\n",
       "    </tr>\n",
       "  </tbody>\n",
       "</table>\n",
       "</div>"
      ],
      "text/plain": [
       "              Price       Age        KM        HP  MetColor  Automatic  \\\n",
       "Price      1.000000 -0.878407 -0.574720  0.309902  0.112041   0.033081   \n",
       "Age       -0.878407  1.000000  0.512735 -0.157904 -0.099659   0.032573   \n",
       "KM        -0.574720  0.512735  1.000000 -0.335285 -0.093825  -0.081248   \n",
       "HP         0.309902 -0.157904 -0.335285  1.000000  0.064749   0.013755   \n",
       "MetColor   0.112041 -0.099659 -0.093825  0.064749  1.000000  -0.013973   \n",
       "Automatic  0.033081  0.032573 -0.081248  0.013755 -0.013973   1.000000   \n",
       "CC         0.165067 -0.120706  0.299993  0.053758  0.029189  -0.069321   \n",
       "Weight     0.581198 -0.464299 -0.026271  0.086737  0.057142   0.057249   \n",
       "\n",
       "                 CC    Weight  \n",
       "Price      0.165067  0.581198  \n",
       "Age       -0.120706 -0.464299  \n",
       "KM         0.299993 -0.026271  \n",
       "HP         0.053758  0.086737  \n",
       "MetColor   0.029189  0.057142  \n",
       "Automatic -0.069321  0.057249  \n",
       "CC         1.000000  0.651450  \n",
       "Weight     0.651450  1.000000  "
      ]
     },
     "execution_count": 16,
     "metadata": {},
     "output_type": "execute_result"
    }
   ],
   "source": [
    "# correaltion\n",
    "\n",
    "corr_matrix = numerical_data.corr(method='pearson')\n",
    "corr_matrix"
   ]
  },
  {
   "cell_type": "markdown",
   "id": "f6d810da-e414-4164-8d1d-747deec8f2ef",
   "metadata": {},
   "source": [
    "As we can see we are getting the values like this <br> and this is principal diagonal<br>\n",
    "means if we are getting the same values, so it will give us one for price and price it is one <br>\n",
    "and for age and age it is one <br>\n",
    "so when we are comparing price and age it is negative correlation age increase prie decrease\n"
   ]
  },
  {
   "cell_type": "code",
   "execution_count": null,
   "id": "025560a7-4aaf-45b3-a3d1-fbcff786a602",
   "metadata": {},
   "outputs": [],
   "source": []
  }
 ],
 "metadata": {
  "kernelspec": {
   "display_name": "Python 3 (ipykernel)",
   "language": "python",
   "name": "python3"
  },
  "language_info": {
   "codemirror_mode": {
    "name": "ipython",
    "version": 3
   },
   "file_extension": ".py",
   "mimetype": "text/x-python",
   "name": "python",
   "nbconvert_exporter": "python",
   "pygments_lexer": "ipython3",
   "version": "3.10.11"
  }
 },
 "nbformat": 4,
 "nbformat_minor": 5
}
